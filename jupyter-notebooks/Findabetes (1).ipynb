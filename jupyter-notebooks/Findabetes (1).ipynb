{
 "cells": [
  {
   "cell_type": "markdown",
   "metadata": {
    "id": "2QLMKh04W37W"
   },
   "source": [
    "# Findabetes model\n",
    "\n",
    "* Dataset: CDC Diabetes Health Indicators"
   ]
  },
  {
   "cell_type": "code",
   "execution_count": 34,
   "metadata": {
    "executionInfo": {
     "elapsed": 48,
     "status": "ok",
     "timestamp": 1758109940989,
     "user": {
      "displayName": "Elina Nordlund",
      "userId": "13258865239668986559"
     },
     "user_tz": -120
    },
    "id": "lztI0PFJYDUS"
   },
   "outputs": [],
   "source": [
    "import pandas as pd\n",
    "import matplotlib.pyplot as plt\n",
    "import seaborn as sns\n",
    "import numpy as np\n",
    "from sklearn.model_selection import StratifiedKFold, cross_validate, train_test_split\n",
    "from sklearn.metrics import classification_report, accuracy_score, confusion_matrix\n",
    "from sklearn.ensemble import RandomForestClassifier\n",
    "from sklearn.tree import DecisionTreeClassifier\n",
    "from sklearn.svm import SVC\n",
    "from sklearn.neighbors import KNeighborsClassifier\n",
    "from sklearn.linear_model import LogisticRegression\n",
    "from sklearn.metrics import accuracy_score, precision_score, recall_score, f1_score\n",
    "import time\n",
    "from sklearn.preprocessing import StandardScaler\n",
    "from sklearn.model_selection import train_test_split, GridSearchCV\n",
    "from sklearn.model_selection import cross_validate\n",
    "from sklearn.metrics import ConfusionMatrixDisplay, roc_auc_score\n",
    "from sklearn.metrics import roc_curve, auc\n",
    "from sklearn.pipeline import Pipeline\n",
    "from sklearn.tree import DecisionTreeClassifier\n",
    "from sklearn.ensemble import RandomForestClassifier, GradientBoostingClassifier, HistGradientBoostingClassifier\n",
    "from sklearn.svm import SVC\n",
    "from sklearn.linear_model import LogisticRegression\n",
    "from xgboost import XGBClassifier\n",
    "from sklearn.utils.class_weight import compute_sample_weight\n",
    "import plotly.express as px\n",
    "from sklearn.preprocessing import MinMaxScaler"
   ]
  },
  {
   "cell_type": "code",
   "execution_count": 35,
   "metadata": {
    "colab": {
     "base_uri": "https://localhost:8080/"
    },
    "executionInfo": {
     "elapsed": 15203,
     "status": "ok",
     "timestamp": 1758109956203,
     "user": {
      "displayName": "Elina Nordlund",
      "userId": "13258865239668986559"
     },
     "user_tz": -120
    },
    "id": "3P5hMKzSW1nN",
    "outputId": "d187c775-5855-4c76-ba47-2a731ae0e9ce"
   },
   "outputs": [
    {
     "name": "stdout",
     "output_type": "stream",
     "text": [
      "Requirement already satisfied: ucimlrepo in c:\\users\\nordl\\onedrive\\dokument\\github\\prohi-findabetescrew\\env\\lib\\site-packages (0.0.7)\n",
      "Requirement already satisfied: pandas>=1.0.0 in c:\\users\\nordl\\onedrive\\dokument\\github\\prohi-findabetescrew\\env\\lib\\site-packages (from ucimlrepo) (2.3.2)\n",
      "Requirement already satisfied: certifi>=2020.12.5 in c:\\users\\nordl\\onedrive\\dokument\\github\\prohi-findabetescrew\\env\\lib\\site-packages (from ucimlrepo) (2025.8.3)\n",
      "Requirement already satisfied: numpy>=1.23.2 in c:\\users\\nordl\\onedrive\\dokument\\github\\prohi-findabetescrew\\env\\lib\\site-packages (from pandas>=1.0.0->ucimlrepo) (2.2.6)\n",
      "Requirement already satisfied: python-dateutil>=2.8.2 in c:\\users\\nordl\\onedrive\\dokument\\github\\prohi-findabetescrew\\env\\lib\\site-packages (from pandas>=1.0.0->ucimlrepo) (2.9.0.post0)\n",
      "Requirement already satisfied: pytz>=2020.1 in c:\\users\\nordl\\onedrive\\dokument\\github\\prohi-findabetescrew\\env\\lib\\site-packages (from pandas>=1.0.0->ucimlrepo) (2025.2)\n",
      "Requirement already satisfied: tzdata>=2022.7 in c:\\users\\nordl\\onedrive\\dokument\\github\\prohi-findabetescrew\\env\\lib\\site-packages (from pandas>=1.0.0->ucimlrepo) (2025.2)\n",
      "Requirement already satisfied: six>=1.5 in c:\\users\\nordl\\onedrive\\dokument\\github\\prohi-findabetescrew\\env\\lib\\site-packages (from python-dateutil>=2.8.2->pandas>=1.0.0->ucimlrepo) (1.17.0)\n",
      "Note: you may need to restart the kernel to use updated packages.\n"
     ]
    },
    {
     "name": "stderr",
     "output_type": "stream",
     "text": [
      "\n",
      "[notice] A new release of pip is available: 24.0 -> 25.2\n",
      "[notice] To update, run: python.exe -m pip install --upgrade pip\n"
     ]
    }
   ],
   "source": [
    "pip install ucimlrepo"
   ]
  },
  {
   "cell_type": "code",
   "execution_count": 36,
   "metadata": {
    "colab": {
     "base_uri": "https://localhost:8080/"
    },
    "executionInfo": {
     "elapsed": 2394,
     "status": "ok",
     "timestamp": 1758109958599,
     "user": {
      "displayName": "Elina Nordlund",
      "userId": "13258865239668986559"
     },
     "user_tz": -120
    },
    "id": "FQbJOyeNXEwl",
    "outputId": "d3034561-4d12-4c1a-8b4f-1246445650c1"
   },
   "outputs": [
    {
     "name": "stdout",
     "output_type": "stream",
     "text": [
      "{'uci_id': 891, 'name': 'CDC Diabetes Health Indicators', 'repository_url': 'https://archive.ics.uci.edu/dataset/891/cdc+diabetes+health+indicators', 'data_url': 'https://archive.ics.uci.edu/static/public/891/data.csv', 'abstract': 'The Diabetes Health Indicators Dataset contains healthcare statistics and lifestyle survey information about people in general along with their diagnosis of diabetes. The 35 features consist of some demographics, lab test results, and answers to survey questions for each patient. The target variable for classification is whether a patient has diabetes, is pre-diabetic, or healthy. ', 'area': 'Health and Medicine', 'tasks': ['Classification'], 'characteristics': ['Tabular', 'Multivariate'], 'num_instances': 253680, 'num_features': 21, 'feature_types': ['Categorical', 'Integer'], 'demographics': ['Sex', 'Age', 'Education Level', 'Income'], 'target_col': ['Diabetes_binary'], 'index_col': ['ID'], 'has_missing_values': 'no', 'missing_values_symbol': None, 'year_of_dataset_creation': 2017, 'last_updated': 'Fri Nov 03 2023', 'dataset_doi': '10.24432/C53919', 'creators': [], 'intro_paper': {'ID': 308, 'type': 'NATIVE', 'title': 'Incidence of End-Stage Renal Disease Attributed to Diabetes Among Persons with Diagnosed Diabetes — United States and Puerto Rico, 2000–2014', 'authors': 'Nilka Rios Burrows, MPH; Israel Hora, PhD; Linda S. Geiss, MA; Edward W. Gregg, PhD; Ann Albright, PhD', 'venue': 'Morbidity and Mortality Weekly Report', 'year': 2017, 'journal': None, 'DOI': None, 'URL': 'https://www.cdc.gov/mmwr/volumes/66/wr/mm6643a2.htm', 'sha': None, 'corpus': None, 'arxiv': None, 'mag': None, 'acl': None, 'pmid': None, 'pmcid': None}, 'additional_info': {'summary': 'Dataset link: https://www.cdc.gov/brfss/annual_data/annual_2014.html', 'purpose': 'To better understand the relationship between  lifestyle and diabetes in the US', 'funded_by': 'The CDC', 'instances_represent': 'Each row represents a person participating in this study.', 'recommended_data_splits': 'Cross validation or a fixed train-test split could be used.', 'sensitive_data': '- Gender\\n- Income\\n- Education level', 'preprocessing_description': 'Bucketing of age', 'variable_info': '- Diabetes diagnosis\\n- Demographics (race, sex)\\n- Personal information (income, educations)\\n- Health history (drinking, smoking, mental health, physical health)', 'citation': None}, 'external_url': 'https://www.kaggle.com/datasets/alexteboul/diabetes-health-indicators-dataset'}\n",
      "                    name     role     type      demographic  \\\n",
      "0                     ID       ID  Integer             None   \n",
      "1        Diabetes_binary   Target   Binary             None   \n",
      "2                 HighBP  Feature   Binary             None   \n",
      "3               HighChol  Feature   Binary             None   \n",
      "4              CholCheck  Feature   Binary             None   \n",
      "5                    BMI  Feature  Integer             None   \n",
      "6                 Smoker  Feature   Binary             None   \n",
      "7                 Stroke  Feature   Binary             None   \n",
      "8   HeartDiseaseorAttack  Feature   Binary             None   \n",
      "9           PhysActivity  Feature   Binary             None   \n",
      "10                Fruits  Feature   Binary             None   \n",
      "11               Veggies  Feature   Binary             None   \n",
      "12     HvyAlcoholConsump  Feature   Binary             None   \n",
      "13         AnyHealthcare  Feature   Binary             None   \n",
      "14           NoDocbcCost  Feature   Binary             None   \n",
      "15               GenHlth  Feature  Integer             None   \n",
      "16              MentHlth  Feature  Integer             None   \n",
      "17              PhysHlth  Feature  Integer             None   \n",
      "18              DiffWalk  Feature   Binary             None   \n",
      "19                   Sex  Feature   Binary              Sex   \n",
      "20                   Age  Feature  Integer              Age   \n",
      "21             Education  Feature  Integer  Education Level   \n",
      "22                Income  Feature  Integer           Income   \n",
      "\n",
      "                                          description units missing_values  \n",
      "0                                          Patient ID  None             no  \n",
      "1         0 = no diabetes 1 = prediabetes or diabetes  None             no  \n",
      "2                          0 = no high BP 1 = high BP  None             no  \n",
      "3        0 = no high cholesterol 1 = high cholesterol  None             no  \n",
      "4   0 = no cholesterol check in 5 years 1 = yes ch...  None             no  \n",
      "5                                     Body Mass Index  None             no  \n",
      "6   Have you smoked at least 100 cigarettes in you...  None             no  \n",
      "7        (Ever told) you had a stroke. 0 = no 1 = yes  None             no  \n",
      "8   coronary heart disease (CHD) or myocardial inf...  None             no  \n",
      "9   physical activity in past 30 days - not includ...  None             no  \n",
      "10  Consume Fruit 1 or more times per day 0 = no 1...  None             no  \n",
      "11  Consume Vegetables 1 or more times per day 0 =...  None             no  \n",
      "12  Heavy drinkers (adult men having more than 14 ...  None             no  \n",
      "13  Have any kind of health care coverage, includi...  None             no  \n",
      "14  Was there a time in the past 12 months when yo...  None             no  \n",
      "15  Would you say that in general your health is: ...  None             no  \n",
      "16  Now thinking about your mental health, which i...  None             no  \n",
      "17  Now thinking about your physical health, which...  None             no  \n",
      "18  Do you have serious difficulty walking or clim...  None             no  \n",
      "19                                0 = female 1 = male  None             no  \n",
      "20  13-level age category (_AGEG5YR see codebook) ...  None             no  \n",
      "21  Education level (EDUCA see codebook) scale 1-6...  None             no  \n",
      "22  Income scale (INCOME2 see codebook) scale 1-8 ...  None             no  \n"
     ]
    }
   ],
   "source": [
    "from ucimlrepo import fetch_ucirepo\n",
    "\n",
    "# fetch dataset\n",
    "cdc_diabetes_health_indicators = fetch_ucirepo(id=891)\n",
    "\n",
    "# data (as pandas dataframes)\n",
    "X = cdc_diabetes_health_indicators.data.features\n",
    "y = cdc_diabetes_health_indicators.data.targets\n",
    "\n",
    "# metadata\n",
    "print(cdc_diabetes_health_indicators.metadata)\n",
    "\n",
    "# variable information\n",
    "print(cdc_diabetes_health_indicators.variables)\n",
    "\n"
   ]
  },
  {
   "cell_type": "code",
   "execution_count": 37,
   "metadata": {
    "colab": {
     "base_uri": "https://localhost:8080/",
     "height": 236
    },
    "executionInfo": {
     "elapsed": 135,
     "status": "ok",
     "timestamp": 1758109987503,
     "user": {
      "displayName": "Elina Nordlund",
      "userId": "13258865239668986559"
     },
     "user_tz": -120
    },
    "id": "4QCHj8QGYAef",
    "outputId": "0cebda23-66ec-44c3-c726-384705a7054b"
   },
   "outputs": [
    {
     "data": {
      "text/html": [
       "<div>\n",
       "<style scoped>\n",
       "    .dataframe tbody tr th:only-of-type {\n",
       "        vertical-align: middle;\n",
       "    }\n",
       "\n",
       "    .dataframe tbody tr th {\n",
       "        vertical-align: top;\n",
       "    }\n",
       "\n",
       "    .dataframe thead th {\n",
       "        text-align: right;\n",
       "    }\n",
       "</style>\n",
       "<table border=\"1\" class=\"dataframe\">\n",
       "  <thead>\n",
       "    <tr style=\"text-align: right;\">\n",
       "      <th></th>\n",
       "      <th>HighBP</th>\n",
       "      <th>HighChol</th>\n",
       "      <th>CholCheck</th>\n",
       "      <th>BMI</th>\n",
       "      <th>Smoker</th>\n",
       "      <th>Stroke</th>\n",
       "      <th>HeartDiseaseorAttack</th>\n",
       "      <th>PhysActivity</th>\n",
       "      <th>Fruits</th>\n",
       "      <th>Veggies</th>\n",
       "      <th>...</th>\n",
       "      <th>AnyHealthcare</th>\n",
       "      <th>NoDocbcCost</th>\n",
       "      <th>GenHlth</th>\n",
       "      <th>MentHlth</th>\n",
       "      <th>PhysHlth</th>\n",
       "      <th>DiffWalk</th>\n",
       "      <th>Sex</th>\n",
       "      <th>Age</th>\n",
       "      <th>Education</th>\n",
       "      <th>Income</th>\n",
       "    </tr>\n",
       "  </thead>\n",
       "  <tbody>\n",
       "    <tr>\n",
       "      <th>0</th>\n",
       "      <td>1</td>\n",
       "      <td>1</td>\n",
       "      <td>1</td>\n",
       "      <td>40</td>\n",
       "      <td>1</td>\n",
       "      <td>0</td>\n",
       "      <td>0</td>\n",
       "      <td>0</td>\n",
       "      <td>0</td>\n",
       "      <td>1</td>\n",
       "      <td>...</td>\n",
       "      <td>1</td>\n",
       "      <td>0</td>\n",
       "      <td>5</td>\n",
       "      <td>18</td>\n",
       "      <td>15</td>\n",
       "      <td>1</td>\n",
       "      <td>0</td>\n",
       "      <td>9</td>\n",
       "      <td>4</td>\n",
       "      <td>3</td>\n",
       "    </tr>\n",
       "    <tr>\n",
       "      <th>1</th>\n",
       "      <td>0</td>\n",
       "      <td>0</td>\n",
       "      <td>0</td>\n",
       "      <td>25</td>\n",
       "      <td>1</td>\n",
       "      <td>0</td>\n",
       "      <td>0</td>\n",
       "      <td>1</td>\n",
       "      <td>0</td>\n",
       "      <td>0</td>\n",
       "      <td>...</td>\n",
       "      <td>0</td>\n",
       "      <td>1</td>\n",
       "      <td>3</td>\n",
       "      <td>0</td>\n",
       "      <td>0</td>\n",
       "      <td>0</td>\n",
       "      <td>0</td>\n",
       "      <td>7</td>\n",
       "      <td>6</td>\n",
       "      <td>1</td>\n",
       "    </tr>\n",
       "    <tr>\n",
       "      <th>2</th>\n",
       "      <td>1</td>\n",
       "      <td>1</td>\n",
       "      <td>1</td>\n",
       "      <td>28</td>\n",
       "      <td>0</td>\n",
       "      <td>0</td>\n",
       "      <td>0</td>\n",
       "      <td>0</td>\n",
       "      <td>1</td>\n",
       "      <td>0</td>\n",
       "      <td>...</td>\n",
       "      <td>1</td>\n",
       "      <td>1</td>\n",
       "      <td>5</td>\n",
       "      <td>30</td>\n",
       "      <td>30</td>\n",
       "      <td>1</td>\n",
       "      <td>0</td>\n",
       "      <td>9</td>\n",
       "      <td>4</td>\n",
       "      <td>8</td>\n",
       "    </tr>\n",
       "    <tr>\n",
       "      <th>3</th>\n",
       "      <td>1</td>\n",
       "      <td>0</td>\n",
       "      <td>1</td>\n",
       "      <td>27</td>\n",
       "      <td>0</td>\n",
       "      <td>0</td>\n",
       "      <td>0</td>\n",
       "      <td>1</td>\n",
       "      <td>1</td>\n",
       "      <td>1</td>\n",
       "      <td>...</td>\n",
       "      <td>1</td>\n",
       "      <td>0</td>\n",
       "      <td>2</td>\n",
       "      <td>0</td>\n",
       "      <td>0</td>\n",
       "      <td>0</td>\n",
       "      <td>0</td>\n",
       "      <td>11</td>\n",
       "      <td>3</td>\n",
       "      <td>6</td>\n",
       "    </tr>\n",
       "    <tr>\n",
       "      <th>4</th>\n",
       "      <td>1</td>\n",
       "      <td>1</td>\n",
       "      <td>1</td>\n",
       "      <td>24</td>\n",
       "      <td>0</td>\n",
       "      <td>0</td>\n",
       "      <td>0</td>\n",
       "      <td>1</td>\n",
       "      <td>1</td>\n",
       "      <td>1</td>\n",
       "      <td>...</td>\n",
       "      <td>1</td>\n",
       "      <td>0</td>\n",
       "      <td>2</td>\n",
       "      <td>3</td>\n",
       "      <td>0</td>\n",
       "      <td>0</td>\n",
       "      <td>0</td>\n",
       "      <td>11</td>\n",
       "      <td>5</td>\n",
       "      <td>4</td>\n",
       "    </tr>\n",
       "  </tbody>\n",
       "</table>\n",
       "<p>5 rows × 21 columns</p>\n",
       "</div>"
      ],
      "text/plain": [
       "   HighBP  HighChol  CholCheck  BMI  Smoker  Stroke  HeartDiseaseorAttack  \\\n",
       "0       1         1          1   40       1       0                     0   \n",
       "1       0         0          0   25       1       0                     0   \n",
       "2       1         1          1   28       0       0                     0   \n",
       "3       1         0          1   27       0       0                     0   \n",
       "4       1         1          1   24       0       0                     0   \n",
       "\n",
       "   PhysActivity  Fruits  Veggies  ...  AnyHealthcare  NoDocbcCost  GenHlth  \\\n",
       "0             0       0        1  ...              1            0        5   \n",
       "1             1       0        0  ...              0            1        3   \n",
       "2             0       1        0  ...              1            1        5   \n",
       "3             1       1        1  ...              1            0        2   \n",
       "4             1       1        1  ...              1            0        2   \n",
       "\n",
       "   MentHlth  PhysHlth  DiffWalk  Sex  Age  Education  Income  \n",
       "0        18        15         1    0    9          4       3  \n",
       "1         0         0         0    0    7          6       1  \n",
       "2        30        30         1    0    9          4       8  \n",
       "3         0         0         0    0   11          3       6  \n",
       "4         3         0         0    0   11          5       4  \n",
       "\n",
       "[5 rows x 21 columns]"
      ]
     },
     "execution_count": 37,
     "metadata": {},
     "output_type": "execute_result"
    }
   ],
   "source": [
    "X.head()"
   ]
  },
  {
   "cell_type": "code",
   "execution_count": 38,
   "metadata": {
    "colab": {
     "base_uri": "https://localhost:8080/",
     "height": 350
    },
    "executionInfo": {
     "elapsed": 1318,
     "status": "ok",
     "timestamp": 1758109962428,
     "user": {
      "displayName": "Elina Nordlund",
      "userId": "13258865239668986559"
     },
     "user_tz": -120
    },
    "id": "6X_p9TrPXGF1",
    "outputId": "b322f76d-3491-4b95-fb8d-1148ce078e68"
   },
   "outputs": [
    {
     "data": {
      "text/html": [
       "<div>\n",
       "<style scoped>\n",
       "    .dataframe tbody tr th:only-of-type {\n",
       "        vertical-align: middle;\n",
       "    }\n",
       "\n",
       "    .dataframe tbody tr th {\n",
       "        vertical-align: top;\n",
       "    }\n",
       "\n",
       "    .dataframe thead th {\n",
       "        text-align: right;\n",
       "    }\n",
       "</style>\n",
       "<table border=\"1\" class=\"dataframe\">\n",
       "  <thead>\n",
       "    <tr style=\"text-align: right;\">\n",
       "      <th></th>\n",
       "      <th>HighBP</th>\n",
       "      <th>HighChol</th>\n",
       "      <th>CholCheck</th>\n",
       "      <th>BMI</th>\n",
       "      <th>Smoker</th>\n",
       "      <th>Stroke</th>\n",
       "      <th>HeartDiseaseorAttack</th>\n",
       "      <th>PhysActivity</th>\n",
       "      <th>Fruits</th>\n",
       "      <th>Veggies</th>\n",
       "      <th>...</th>\n",
       "      <th>AnyHealthcare</th>\n",
       "      <th>NoDocbcCost</th>\n",
       "      <th>GenHlth</th>\n",
       "      <th>MentHlth</th>\n",
       "      <th>PhysHlth</th>\n",
       "      <th>DiffWalk</th>\n",
       "      <th>Sex</th>\n",
       "      <th>Age</th>\n",
       "      <th>Education</th>\n",
       "      <th>Income</th>\n",
       "    </tr>\n",
       "  </thead>\n",
       "  <tbody>\n",
       "    <tr>\n",
       "      <th>count</th>\n",
       "      <td>253680.000000</td>\n",
       "      <td>253680.000000</td>\n",
       "      <td>253680.000000</td>\n",
       "      <td>253680.000000</td>\n",
       "      <td>253680.000000</td>\n",
       "      <td>253680.000000</td>\n",
       "      <td>253680.000000</td>\n",
       "      <td>253680.000000</td>\n",
       "      <td>253680.000000</td>\n",
       "      <td>253680.000000</td>\n",
       "      <td>...</td>\n",
       "      <td>253680.000000</td>\n",
       "      <td>253680.000000</td>\n",
       "      <td>253680.000000</td>\n",
       "      <td>253680.000000</td>\n",
       "      <td>253680.000000</td>\n",
       "      <td>253680.000000</td>\n",
       "      <td>253680.000000</td>\n",
       "      <td>253680.000000</td>\n",
       "      <td>253680.000000</td>\n",
       "      <td>253680.000000</td>\n",
       "    </tr>\n",
       "    <tr>\n",
       "      <th>mean</th>\n",
       "      <td>0.429001</td>\n",
       "      <td>0.424121</td>\n",
       "      <td>0.962670</td>\n",
       "      <td>28.382364</td>\n",
       "      <td>0.443169</td>\n",
       "      <td>0.040571</td>\n",
       "      <td>0.094186</td>\n",
       "      <td>0.756544</td>\n",
       "      <td>0.634256</td>\n",
       "      <td>0.811420</td>\n",
       "      <td>...</td>\n",
       "      <td>0.951053</td>\n",
       "      <td>0.084177</td>\n",
       "      <td>2.511392</td>\n",
       "      <td>3.184772</td>\n",
       "      <td>4.242081</td>\n",
       "      <td>0.168224</td>\n",
       "      <td>0.440342</td>\n",
       "      <td>8.032119</td>\n",
       "      <td>5.050434</td>\n",
       "      <td>6.053875</td>\n",
       "    </tr>\n",
       "    <tr>\n",
       "      <th>std</th>\n",
       "      <td>0.494934</td>\n",
       "      <td>0.494210</td>\n",
       "      <td>0.189571</td>\n",
       "      <td>6.608694</td>\n",
       "      <td>0.496761</td>\n",
       "      <td>0.197294</td>\n",
       "      <td>0.292087</td>\n",
       "      <td>0.429169</td>\n",
       "      <td>0.481639</td>\n",
       "      <td>0.391175</td>\n",
       "      <td>...</td>\n",
       "      <td>0.215759</td>\n",
       "      <td>0.277654</td>\n",
       "      <td>1.068477</td>\n",
       "      <td>7.412847</td>\n",
       "      <td>8.717951</td>\n",
       "      <td>0.374066</td>\n",
       "      <td>0.496429</td>\n",
       "      <td>3.054220</td>\n",
       "      <td>0.985774</td>\n",
       "      <td>2.071148</td>\n",
       "    </tr>\n",
       "    <tr>\n",
       "      <th>min</th>\n",
       "      <td>0.000000</td>\n",
       "      <td>0.000000</td>\n",
       "      <td>0.000000</td>\n",
       "      <td>12.000000</td>\n",
       "      <td>0.000000</td>\n",
       "      <td>0.000000</td>\n",
       "      <td>0.000000</td>\n",
       "      <td>0.000000</td>\n",
       "      <td>0.000000</td>\n",
       "      <td>0.000000</td>\n",
       "      <td>...</td>\n",
       "      <td>0.000000</td>\n",
       "      <td>0.000000</td>\n",
       "      <td>1.000000</td>\n",
       "      <td>0.000000</td>\n",
       "      <td>0.000000</td>\n",
       "      <td>0.000000</td>\n",
       "      <td>0.000000</td>\n",
       "      <td>1.000000</td>\n",
       "      <td>1.000000</td>\n",
       "      <td>1.000000</td>\n",
       "    </tr>\n",
       "    <tr>\n",
       "      <th>25%</th>\n",
       "      <td>0.000000</td>\n",
       "      <td>0.000000</td>\n",
       "      <td>1.000000</td>\n",
       "      <td>24.000000</td>\n",
       "      <td>0.000000</td>\n",
       "      <td>0.000000</td>\n",
       "      <td>0.000000</td>\n",
       "      <td>1.000000</td>\n",
       "      <td>0.000000</td>\n",
       "      <td>1.000000</td>\n",
       "      <td>...</td>\n",
       "      <td>1.000000</td>\n",
       "      <td>0.000000</td>\n",
       "      <td>2.000000</td>\n",
       "      <td>0.000000</td>\n",
       "      <td>0.000000</td>\n",
       "      <td>0.000000</td>\n",
       "      <td>0.000000</td>\n",
       "      <td>6.000000</td>\n",
       "      <td>4.000000</td>\n",
       "      <td>5.000000</td>\n",
       "    </tr>\n",
       "    <tr>\n",
       "      <th>50%</th>\n",
       "      <td>0.000000</td>\n",
       "      <td>0.000000</td>\n",
       "      <td>1.000000</td>\n",
       "      <td>27.000000</td>\n",
       "      <td>0.000000</td>\n",
       "      <td>0.000000</td>\n",
       "      <td>0.000000</td>\n",
       "      <td>1.000000</td>\n",
       "      <td>1.000000</td>\n",
       "      <td>1.000000</td>\n",
       "      <td>...</td>\n",
       "      <td>1.000000</td>\n",
       "      <td>0.000000</td>\n",
       "      <td>2.000000</td>\n",
       "      <td>0.000000</td>\n",
       "      <td>0.000000</td>\n",
       "      <td>0.000000</td>\n",
       "      <td>0.000000</td>\n",
       "      <td>8.000000</td>\n",
       "      <td>5.000000</td>\n",
       "      <td>7.000000</td>\n",
       "    </tr>\n",
       "    <tr>\n",
       "      <th>75%</th>\n",
       "      <td>1.000000</td>\n",
       "      <td>1.000000</td>\n",
       "      <td>1.000000</td>\n",
       "      <td>31.000000</td>\n",
       "      <td>1.000000</td>\n",
       "      <td>0.000000</td>\n",
       "      <td>0.000000</td>\n",
       "      <td>1.000000</td>\n",
       "      <td>1.000000</td>\n",
       "      <td>1.000000</td>\n",
       "      <td>...</td>\n",
       "      <td>1.000000</td>\n",
       "      <td>0.000000</td>\n",
       "      <td>3.000000</td>\n",
       "      <td>2.000000</td>\n",
       "      <td>3.000000</td>\n",
       "      <td>0.000000</td>\n",
       "      <td>1.000000</td>\n",
       "      <td>10.000000</td>\n",
       "      <td>6.000000</td>\n",
       "      <td>8.000000</td>\n",
       "    </tr>\n",
       "    <tr>\n",
       "      <th>max</th>\n",
       "      <td>1.000000</td>\n",
       "      <td>1.000000</td>\n",
       "      <td>1.000000</td>\n",
       "      <td>98.000000</td>\n",
       "      <td>1.000000</td>\n",
       "      <td>1.000000</td>\n",
       "      <td>1.000000</td>\n",
       "      <td>1.000000</td>\n",
       "      <td>1.000000</td>\n",
       "      <td>1.000000</td>\n",
       "      <td>...</td>\n",
       "      <td>1.000000</td>\n",
       "      <td>1.000000</td>\n",
       "      <td>5.000000</td>\n",
       "      <td>30.000000</td>\n",
       "      <td>30.000000</td>\n",
       "      <td>1.000000</td>\n",
       "      <td>1.000000</td>\n",
       "      <td>13.000000</td>\n",
       "      <td>6.000000</td>\n",
       "      <td>8.000000</td>\n",
       "    </tr>\n",
       "  </tbody>\n",
       "</table>\n",
       "<p>8 rows × 21 columns</p>\n",
       "</div>"
      ],
      "text/plain": [
       "              HighBP       HighChol      CholCheck            BMI  \\\n",
       "count  253680.000000  253680.000000  253680.000000  253680.000000   \n",
       "mean        0.429001       0.424121       0.962670      28.382364   \n",
       "std         0.494934       0.494210       0.189571       6.608694   \n",
       "min         0.000000       0.000000       0.000000      12.000000   \n",
       "25%         0.000000       0.000000       1.000000      24.000000   \n",
       "50%         0.000000       0.000000       1.000000      27.000000   \n",
       "75%         1.000000       1.000000       1.000000      31.000000   \n",
       "max         1.000000       1.000000       1.000000      98.000000   \n",
       "\n",
       "              Smoker         Stroke  HeartDiseaseorAttack   PhysActivity  \\\n",
       "count  253680.000000  253680.000000         253680.000000  253680.000000   \n",
       "mean        0.443169       0.040571              0.094186       0.756544   \n",
       "std         0.496761       0.197294              0.292087       0.429169   \n",
       "min         0.000000       0.000000              0.000000       0.000000   \n",
       "25%         0.000000       0.000000              0.000000       1.000000   \n",
       "50%         0.000000       0.000000              0.000000       1.000000   \n",
       "75%         1.000000       0.000000              0.000000       1.000000   \n",
       "max         1.000000       1.000000              1.000000       1.000000   \n",
       "\n",
       "              Fruits        Veggies  ...  AnyHealthcare    NoDocbcCost  \\\n",
       "count  253680.000000  253680.000000  ...  253680.000000  253680.000000   \n",
       "mean        0.634256       0.811420  ...       0.951053       0.084177   \n",
       "std         0.481639       0.391175  ...       0.215759       0.277654   \n",
       "min         0.000000       0.000000  ...       0.000000       0.000000   \n",
       "25%         0.000000       1.000000  ...       1.000000       0.000000   \n",
       "50%         1.000000       1.000000  ...       1.000000       0.000000   \n",
       "75%         1.000000       1.000000  ...       1.000000       0.000000   \n",
       "max         1.000000       1.000000  ...       1.000000       1.000000   \n",
       "\n",
       "             GenHlth       MentHlth       PhysHlth       DiffWalk  \\\n",
       "count  253680.000000  253680.000000  253680.000000  253680.000000   \n",
       "mean        2.511392       3.184772       4.242081       0.168224   \n",
       "std         1.068477       7.412847       8.717951       0.374066   \n",
       "min         1.000000       0.000000       0.000000       0.000000   \n",
       "25%         2.000000       0.000000       0.000000       0.000000   \n",
       "50%         2.000000       0.000000       0.000000       0.000000   \n",
       "75%         3.000000       2.000000       3.000000       0.000000   \n",
       "max         5.000000      30.000000      30.000000       1.000000   \n",
       "\n",
       "                 Sex            Age      Education         Income  \n",
       "count  253680.000000  253680.000000  253680.000000  253680.000000  \n",
       "mean        0.440342       8.032119       5.050434       6.053875  \n",
       "std         0.496429       3.054220       0.985774       2.071148  \n",
       "min         0.000000       1.000000       1.000000       1.000000  \n",
       "25%         0.000000       6.000000       4.000000       5.000000  \n",
       "50%         0.000000       8.000000       5.000000       7.000000  \n",
       "75%         1.000000      10.000000       6.000000       8.000000  \n",
       "max         1.000000      13.000000       6.000000       8.000000  \n",
       "\n",
       "[8 rows x 21 columns]"
      ]
     },
     "execution_count": 38,
     "metadata": {},
     "output_type": "execute_result"
    }
   ],
   "source": [
    "X.describe()\n"
   ]
  },
  {
   "cell_type": "code",
   "execution_count": 39,
   "metadata": {
    "colab": {
     "base_uri": "https://localhost:8080/",
     "height": 743
    },
    "executionInfo": {
     "elapsed": 13,
     "status": "ok",
     "timestamp": 1758110001045,
     "user": {
      "displayName": "Elina Nordlund",
      "userId": "13258865239668986559"
     },
     "user_tz": -120
    },
    "id": "dY5E641ooALj",
    "outputId": "fb815329-9f88-4124-8c40-8bc90f71aa2f"
   },
   "outputs": [
    {
     "data": {
      "text/plain": [
       "HighBP                  int64\n",
       "HighChol                int64\n",
       "CholCheck               int64\n",
       "BMI                     int64\n",
       "Smoker                  int64\n",
       "Stroke                  int64\n",
       "HeartDiseaseorAttack    int64\n",
       "PhysActivity            int64\n",
       "Fruits                  int64\n",
       "Veggies                 int64\n",
       "HvyAlcoholConsump       int64\n",
       "AnyHealthcare           int64\n",
       "NoDocbcCost             int64\n",
       "GenHlth                 int64\n",
       "MentHlth                int64\n",
       "PhysHlth                int64\n",
       "DiffWalk                int64\n",
       "Sex                     int64\n",
       "Age                     int64\n",
       "Education               int64\n",
       "Income                  int64\n",
       "dtype: object"
      ]
     },
     "execution_count": 39,
     "metadata": {},
     "output_type": "execute_result"
    }
   ],
   "source": [
    "X.dtypes"
   ]
  },
  {
   "cell_type": "code",
   "execution_count": 40,
   "metadata": {
    "colab": {
     "base_uri": "https://localhost:8080/",
     "height": 115
    },
    "executionInfo": {
     "elapsed": 17,
     "status": "ok",
     "timestamp": 1758110013561,
     "user": {
      "displayName": "Elina Nordlund",
      "userId": "13258865239668986559"
     },
     "user_tz": -120
    },
    "id": "_yW8Pi8yYKVQ",
    "outputId": "98e36727-72fb-4288-af94-0875d388e8f7"
   },
   "outputs": [
    {
     "data": {
      "text/plain": [
       "Diabetes_binary    0\n",
       "dtype: int64"
      ]
     },
     "execution_count": 40,
     "metadata": {},
     "output_type": "execute_result"
    }
   ],
   "source": [
    "y.isna().sum()"
   ]
  },
  {
   "cell_type": "code",
   "execution_count": 41,
   "metadata": {
    "colab": {
     "base_uri": "https://localhost:8080/",
     "height": 743
    },
    "executionInfo": {
     "elapsed": 17,
     "status": "ok",
     "timestamp": 1758110028096,
     "user": {
      "displayName": "Elina Nordlund",
      "userId": "13258865239668986559"
     },
     "user_tz": -120
    },
    "id": "Z8bZhcEBYTM3",
    "outputId": "d45cf1cf-3368-47e1-8eac-c3329d75fb6b"
   },
   "outputs": [
    {
     "data": {
      "text/plain": [
       "HighBP                  0\n",
       "HighChol                0\n",
       "CholCheck               0\n",
       "BMI                     0\n",
       "Smoker                  0\n",
       "Stroke                  0\n",
       "HeartDiseaseorAttack    0\n",
       "PhysActivity            0\n",
       "Fruits                  0\n",
       "Veggies                 0\n",
       "HvyAlcoholConsump       0\n",
       "AnyHealthcare           0\n",
       "NoDocbcCost             0\n",
       "GenHlth                 0\n",
       "MentHlth                0\n",
       "PhysHlth                0\n",
       "DiffWalk                0\n",
       "Sex                     0\n",
       "Age                     0\n",
       "Education               0\n",
       "Income                  0\n",
       "dtype: int64"
      ]
     },
     "execution_count": 41,
     "metadata": {},
     "output_type": "execute_result"
    }
   ],
   "source": [
    "X.isna().sum()\n",
    "\n"
   ]
  },
  {
   "cell_type": "markdown",
   "metadata": {
    "id": "4qAuMRdZhjNb"
   },
   "source": [
    "# Feature selection\n",
    "\n",
    "**Features that are less relevant for a Swedish context**\n",
    "\n",
    "* AnyHealthcare - in most Swedish regions, all patients listed at a primary health clinic will be covered by subsidised healthcare. This project will take placce in Stockholm, where you have to be folkbokförd to belong to a primary clinic[1], meaning all patients at the clinic are eligable for subsidised health care [2].\n",
    "* NoDocbcCost - Same reasoning as above\n",
    "* Income - may not be irrelevant, but would need to be adapted to a Swedish context. It is likely that the correlation between income level and diabetes risk is not the same in Sweden as in the United States. Since this dataset reflects U.S. income thresholds, the feature is not directly relevant for our population and should therefore be excluded unless it can be replaced with a more context-appropriate measure.\n",
    "* Education - same reasoning as above.\n",
    "\n",
    "**Features where the patient is unlikely to know the answer**\n",
    "* HighChol - need access to lab results/knowledge about results.\n",
    "* CholCheck - All patients may not be aware of whether or not their cholesterol has been tested or when it was done most recently.\n",
    "* BMI - should not be excluded, but the patient may not be aware of their BMI, and it may be useful to add a bmi-calculator to the dashboard.\n"
   ]
  },
  {
   "cell_type": "code",
   "execution_count": 42,
   "metadata": {
    "colab": {
     "base_uri": "https://localhost:8080/",
     "height": 206
    },
    "executionInfo": {
     "elapsed": 72,
     "status": "ok",
     "timestamp": 1758110083256,
     "user": {
      "displayName": "Elina Nordlund",
      "userId": "13258865239668986559"
     },
     "user_tz": -120
    },
    "id": "1qPvmkxmhpJe",
    "outputId": "1d9816b6-71f3-4f55-a023-98230e8c087f"
   },
   "outputs": [
    {
     "data": {
      "text/html": [
       "<div>\n",
       "<style scoped>\n",
       "    .dataframe tbody tr th:only-of-type {\n",
       "        vertical-align: middle;\n",
       "    }\n",
       "\n",
       "    .dataframe tbody tr th {\n",
       "        vertical-align: top;\n",
       "    }\n",
       "\n",
       "    .dataframe thead th {\n",
       "        text-align: right;\n",
       "    }\n",
       "</style>\n",
       "<table border=\"1\" class=\"dataframe\">\n",
       "  <thead>\n",
       "    <tr style=\"text-align: right;\">\n",
       "      <th></th>\n",
       "      <th>HighBP</th>\n",
       "      <th>BMI</th>\n",
       "      <th>Smoker</th>\n",
       "      <th>Stroke</th>\n",
       "      <th>HeartDiseaseorAttack</th>\n",
       "      <th>PhysActivity</th>\n",
       "      <th>Fruits</th>\n",
       "      <th>Veggies</th>\n",
       "      <th>HvyAlcoholConsump</th>\n",
       "      <th>GenHlth</th>\n",
       "      <th>MentHlth</th>\n",
       "      <th>PhysHlth</th>\n",
       "      <th>DiffWalk</th>\n",
       "      <th>Sex</th>\n",
       "      <th>Age</th>\n",
       "    </tr>\n",
       "  </thead>\n",
       "  <tbody>\n",
       "    <tr>\n",
       "      <th>0</th>\n",
       "      <td>1</td>\n",
       "      <td>40</td>\n",
       "      <td>1</td>\n",
       "      <td>0</td>\n",
       "      <td>0</td>\n",
       "      <td>0</td>\n",
       "      <td>0</td>\n",
       "      <td>1</td>\n",
       "      <td>0</td>\n",
       "      <td>5</td>\n",
       "      <td>18</td>\n",
       "      <td>15</td>\n",
       "      <td>1</td>\n",
       "      <td>0</td>\n",
       "      <td>9</td>\n",
       "    </tr>\n",
       "    <tr>\n",
       "      <th>1</th>\n",
       "      <td>0</td>\n",
       "      <td>25</td>\n",
       "      <td>1</td>\n",
       "      <td>0</td>\n",
       "      <td>0</td>\n",
       "      <td>1</td>\n",
       "      <td>0</td>\n",
       "      <td>0</td>\n",
       "      <td>0</td>\n",
       "      <td>3</td>\n",
       "      <td>0</td>\n",
       "      <td>0</td>\n",
       "      <td>0</td>\n",
       "      <td>0</td>\n",
       "      <td>7</td>\n",
       "    </tr>\n",
       "    <tr>\n",
       "      <th>2</th>\n",
       "      <td>1</td>\n",
       "      <td>28</td>\n",
       "      <td>0</td>\n",
       "      <td>0</td>\n",
       "      <td>0</td>\n",
       "      <td>0</td>\n",
       "      <td>1</td>\n",
       "      <td>0</td>\n",
       "      <td>0</td>\n",
       "      <td>5</td>\n",
       "      <td>30</td>\n",
       "      <td>30</td>\n",
       "      <td>1</td>\n",
       "      <td>0</td>\n",
       "      <td>9</td>\n",
       "    </tr>\n",
       "    <tr>\n",
       "      <th>3</th>\n",
       "      <td>1</td>\n",
       "      <td>27</td>\n",
       "      <td>0</td>\n",
       "      <td>0</td>\n",
       "      <td>0</td>\n",
       "      <td>1</td>\n",
       "      <td>1</td>\n",
       "      <td>1</td>\n",
       "      <td>0</td>\n",
       "      <td>2</td>\n",
       "      <td>0</td>\n",
       "      <td>0</td>\n",
       "      <td>0</td>\n",
       "      <td>0</td>\n",
       "      <td>11</td>\n",
       "    </tr>\n",
       "    <tr>\n",
       "      <th>4</th>\n",
       "      <td>1</td>\n",
       "      <td>24</td>\n",
       "      <td>0</td>\n",
       "      <td>0</td>\n",
       "      <td>0</td>\n",
       "      <td>1</td>\n",
       "      <td>1</td>\n",
       "      <td>1</td>\n",
       "      <td>0</td>\n",
       "      <td>2</td>\n",
       "      <td>3</td>\n",
       "      <td>0</td>\n",
       "      <td>0</td>\n",
       "      <td>0</td>\n",
       "      <td>11</td>\n",
       "    </tr>\n",
       "  </tbody>\n",
       "</table>\n",
       "</div>"
      ],
      "text/plain": [
       "   HighBP  BMI  Smoker  Stroke  HeartDiseaseorAttack  PhysActivity  Fruits  \\\n",
       "0       1   40       1       0                     0             0       0   \n",
       "1       0   25       1       0                     0             1       0   \n",
       "2       1   28       0       0                     0             0       1   \n",
       "3       1   27       0       0                     0             1       1   \n",
       "4       1   24       0       0                     0             1       1   \n",
       "\n",
       "   Veggies  HvyAlcoholConsump  GenHlth  MentHlth  PhysHlth  DiffWalk  Sex  Age  \n",
       "0        1                  0        5        18        15         1    0    9  \n",
       "1        0                  0        3         0         0         0    0    7  \n",
       "2        0                  0        5        30        30         1    0    9  \n",
       "3        1                  0        2         0         0         0    0   11  \n",
       "4        1                  0        2         3         0         0    0   11  "
      ]
     },
     "execution_count": 42,
     "metadata": {},
     "output_type": "execute_result"
    }
   ],
   "source": [
    "X = X.drop(columns=['AnyHealthcare', 'NoDocbcCost', 'Income', 'Education', 'HighChol', 'CholCheck'])\n",
    "X.head()"
   ]
  },
  {
   "cell_type": "markdown",
   "metadata": {},
   "source": [
    "# EDA"
   ]
  },
  {
   "cell_type": "code",
   "execution_count": 43,
   "metadata": {},
   "outputs": [
    {
     "data": {
      "image/png": "[encoded data removed]",
      "text/plain": [
       "<Figure size 1400x400 with 10 Axes>"
      ]
     },
     "metadata": {},
     "output_type": "display_data"
    }
   ],
   "source": [
    "fig, (ax1, ax2, ax3, ax4, ax5, ax6, ax7, ax8, ax9, ax10) = plt.subplots(1, 10, figsize=(14,4))\n",
    "\n",
    "X[\"HighBP\"].value_counts(normalize=True).plot(kind=\"bar\", ax=ax1, title=\"BP\")\n",
    "X[\"Smoker\"].value_counts(normalize=True).plot(kind=\"bar\", ax=ax2, title=\"Smoker\")\n",
    "X['Stroke'].value_counts(normalize=True).plot(kind=\"bar\", ax=ax3, title=\"Stroke\")\n",
    "X['HeartDiseaseorAttack'].value_counts(normalize=True).plot(kind=\"bar\", ax=ax4, title=\"HeartDisease\")\n",
    "X['PhysActivity'].value_counts(normalize=True).plot(kind=\"bar\", ax=ax5, title=\"PhusActivity\")\n",
    "X['Fruits'].value_counts(normalize=True).plot(kind=\"bar\", ax=ax6, title=\"Fruits\")\n",
    "X['Veggies'].value_counts(normalize=True).plot(kind=\"bar\", ax=ax7, title=\"Veggies\")\n",
    "X['HvyAlcoholConsump'].value_counts(normalize=True).plot(kind=\"bar\", ax=ax8, title=\"AlcoholConsump\")\n",
    "X['Sex'].value_counts(normalize=True).plot(kind=\"bar\", ax=ax9, title=\"Sex\")\n",
    "X['DiffWalk'].value_counts(normalize=True).plot(kind=\"bar\", ax=ax10, title=\"DiffWalk\")\n",
    "\n",
    "plt.tight_layout()\n",
    "plt.show()"
   ]
  },
  {
   "cell_type": "code",
   "execution_count": 44,
   "metadata": {},
   "outputs": [
    {
     "data": {
      "text/html": [
       "<div>\n",
       "<style scoped>\n",
       "    .dataframe tbody tr th:only-of-type {\n",
       "        vertical-align: middle;\n",
       "    }\n",
       "\n",
       "    .dataframe tbody tr th {\n",
       "        vertical-align: top;\n",
       "    }\n",
       "\n",
       "    .dataframe thead th {\n",
       "        text-align: right;\n",
       "    }\n",
       "</style>\n",
       "<table border=\"1\" class=\"dataframe\">\n",
       "  <thead>\n",
       "    <tr style=\"text-align: right;\">\n",
       "      <th>DiffWalk</th>\n",
       "      <th>0</th>\n",
       "      <th>1</th>\n",
       "    </tr>\n",
       "    <tr>\n",
       "      <th>PhysActivity</th>\n",
       "      <th></th>\n",
       "      <th></th>\n",
       "    </tr>\n",
       "  </thead>\n",
       "  <tbody>\n",
       "    <tr>\n",
       "      <th>0</th>\n",
       "      <td>0.664832</td>\n",
       "      <td>0.335168</td>\n",
       "    </tr>\n",
       "    <tr>\n",
       "      <th>1</th>\n",
       "      <td>0.885499</td>\n",
       "      <td>0.114501</td>\n",
       "    </tr>\n",
       "  </tbody>\n",
       "</table>\n",
       "</div>"
      ],
      "text/plain": [
       "DiffWalk             0         1\n",
       "PhysActivity                    \n",
       "0             0.664832  0.335168\n",
       "1             0.885499  0.114501"
      ]
     },
     "execution_count": 44,
     "metadata": {},
     "output_type": "execute_result"
    }
   ],
   "source": [
    "pd.crosstab(X[\"PhysActivity\"], X[\"DiffWalk\"], normalize=\"index\")"
   ]
  },
  {
   "cell_type": "markdown",
   "metadata": {},
   "source": [
    "## Featues to consdier\n",
    "\n",
    "**Fruits, Greens, PhysActivity**\n",
    "\n",
    "The timing of data collection is not clearly specified. It is plausible that individuals who have lived with a diabetes diagnosis for some time may have already adjusted their diet and increased their consumption of fruits and vegetables. If so, this feature could misleadingly suggest a stronger association between green consumption and diabetes than what actually exists, thereby risking bias in the model.\n",
    "\n",
    "**Difficilty walking**\n",
    "\n",
    "Only 11% of those with difficulty walking are physically active. Maybe this feature does not add a lot of new info? The relevance it has on diabetes is probably linked to lower physical activity, which means it is covered by that feature anyway. Then again, it may contain people that have difficulty walking *because* of their diabetes, e.g., becuause of neuropathy, which means it may be a usesful indicator on its own. "
   ]
  },
  {
   "cell_type": "code",
   "execution_count": 45,
   "metadata": {},
   "outputs": [
    {
     "data": {
      "image/png": "[encoded data removed]",
      "text/plain": [
       "<Figure size 1400x400 with 4 Axes>"
      ]
     },
     "metadata": {},
     "output_type": "display_data"
    }
   ],
   "source": [
    "fig, (ax1, ax2, ax3, ax4) = plt.subplots(1, 4, figsize=(14,4))\n",
    "\n",
    "X[\"GenHlth\"].plot(kind=\"hist\", ax=ax1, title=\"Health\")\n",
    "X[\"MentHlth\"].plot(kind=\"hist\", ax=ax2, title=\"MH\")\n",
    "X['PhysHlth'].plot(kind=\"hist\", ax=ax3, title=\"PhysHlth\")\n",
    "X['Age'].value_counts(normalize=True).plot(kind=\"hist\", ax=ax4, title=\"Age\")\n",
    "\n",
    "plt.tight_layout()\n",
    "plt.show()"
   ]
  },
  {
   "cell_type": "code",
   "execution_count": 46,
   "metadata": {},
   "outputs": [
    {
     "data": {
      "image/png": "[encoded data removed]",
      "text/plain": [
       "<Figure size 640x480 with 1 Axes>"
      ]
     },
     "metadata": {},
     "output_type": "display_data"
    }
   ],
   "source": [
    "df = X.copy()\n",
    "df['target'] = y\n",
    "\n",
    "sns.boxplot(data=df, x=\"target\", y=\"BMI\")\n",
    "plt.title(\"BMI distribution by target\")\n",
    "plt.show()\n"
   ]
  },
  {
   "cell_type": "markdown",
   "metadata": {},
   "source": [
    "The boxplot shows that the median BMI is clearly higher in the diabetes group compared to those without diabetes. However, the extreme outliers (BMI > 60–100) appear in both groups and do not provide meaningful separation between the two. This suggests that such extreme values act more as noise than as signal. In fact, the non diabetes group has higher outliers than the diabetes group, despite the fact that mean is slightly higher in the diabetes group. For a more accurate prediction it may be worthwile to limit BMI to the datapoints within the IQR range."
   ]
  },
  {
   "cell_type": "code",
   "execution_count": 47,
   "metadata": {},
   "outputs": [
    {
     "data": {
      "application/vnd.plotly.v1+json": {
       "config": {
        "plotlyServerURL": "https://plot.ly"
       },
       "data": [
        {
         "coloraxis": "coloraxis",
         "hovertemplate": "x: %{x}<br>y: %{y}<br>color: %{z}<extra></extra>",
         "name": "0",
         "texttemplate": "%{z:.2f}",
         "type": "heatmap",
         "x": [
          "target",
          "HighBP",
          "BMI",
          "Smoker",
          "Stroke",
          "HeartDiseaseorAttack",
          "PhysActivity",
          "Fruits",
          "Veggies",
          "HvyAlcoholConsump",
          "GenHlth",
          "MentHlth",
          "PhysHlth",
          "DiffWalk",
          "Sex",
          "Age"
         ],
         "xaxis": "x",
         "y": [
          "target",
          "HighBP",
          "BMI",
          "Smoker",
          "Stroke",
          "HeartDiseaseorAttack",
          "PhysActivity",
          "Fruits",
          "Veggies",
          "HvyAlcoholConsump",
          "GenHlth",
          "MentHlth",
          "PhysHlth",
          "DiffWalk",
          "Sex",
          "Age"
         ],
         "yaxis": "y",
         "z": {
          "bdata": "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",
          "dtype": "f8",
          "shape": "16, 16"
         }
        }
       ],
       "layout": {
        "coloraxis": {
         "cmax": 1,
         "cmin": -1,
         "colorbar": {
          "title": {
           "text": "corr"
          }
         },
         "colorscale": [
          [
           0,
           "rgb(103,0,31)"
          ],
          [
           0.1,
           "rgb(178,24,43)"
          ],
          [
           0.2,
           "rgb(214,96,77)"
          ],
          [
           0.3,
           "rgb(244,165,130)"
          ],
          [
           0.4,
           "rgb(253,219,199)"
          ],
          [
           0.5,
           "rgb(247,247,247)"
          ],
          [
           0.6,
           "rgb(209,229,240)"
          ],
          [
           0.7,
           "rgb(146,197,222)"
          ],
          [
           0.8,
           "rgb(67,147,195)"
          ],
          [
           0.9,
           "rgb(33,102,172)"
          ],
          [
           1,
           "rgb(5,48,97)"
          ]
         ]
        },
        "height": 800,
        "margin": {
         "t": 60
        },
        "template": {
         "data": {
          "bar": [
           {
            "error_x": {
             "color": "#2a3f5f"
            },
            "error_y": {
             "color": "#2a3f5f"
            },
            "marker": {
             "line": {
              "color": "#E5ECF6",
              "width": 0.5
             },
             "pattern": {
              "fillmode": "overlay",
              "size": 10,
              "solidity": 0.2
             }
            },
            "type": "bar"
           }
          ],
          "barpolar": [
           {
            "marker": {
             "line": {
              "color": "#E5ECF6",
              "width": 0.5
             },
             "pattern": {
              "fillmode": "overlay",
              "size": 10,
              "solidity": 0.2
             }
            },
            "type": "barpolar"
           }
          ],
          "carpet": [
           {
            "aaxis": {
             "endlinecolor": "#2a3f5f",
             "gridcolor": "white",
             "linecolor": "white",
             "minorgridcolor": "white",
             "startlinecolor": "#2a3f5f"
            },
            "baxis": {
             "endlinecolor": "#2a3f5f",
             "gridcolor": "white",
             "linecolor": "white",
             "minorgridcolor": "white",
             "startlinecolor": "#2a3f5f"
            },
            "type": "carpet"
           }
          ],
          "choropleth": [
           {
            "colorbar": {
             "outlinewidth": 0,
             "ticks": ""
            },
            "type": "choropleth"
           }
          ],
          "contour": [
           {
            "colorbar": {
             "outlinewidth": 0,
             "ticks": ""
            },
            "colorscale": [
             [
              0,
              "#0d0887"
             ],
             [
              0.1111111111111111,
              "#46039f"
             ],
             [
              0.2222222222222222,
              "#7201a8"
             ],
             [
              0.3333333333333333,
              "#9c179e"
             ],
             [
              0.4444444444444444,
              "#bd3786"
             ],
             [
              0.5555555555555556,
              "#d8576b"
             ],
             [
              0.6666666666666666,
              "#ed7953"
             ],
             [
              0.7777777777777778,
              "#fb9f3a"
             ],
             [
              0.8888888888888888,
              "#fdca26"
             ],
             [
              1,
              "#f0f921"
             ]
            ],
            "type": "contour"
           }
          ],
          "contourcarpet": [
           {
            "colorbar": {
             "outlinewidth": 0,
             "ticks": ""
            },
            "type": "contourcarpet"
           }
          ],
          "heatmap": [
           {
            "colorbar": {
             "outlinewidth": 0,
             "ticks": ""
            },
            "colorscale": [
             [
              0,
              "#0d0887"
             ],
             [
              0.1111111111111111,
              "#46039f"
             ],
             [
              0.2222222222222222,
              "#7201a8"
             ],
             [
              0.3333333333333333,
              "#9c179e"
             ],
             [
              0.4444444444444444,
              "#bd3786"
             ],
             [
              0.5555555555555556,
              "#d8576b"
             ],
             [
              0.6666666666666666,
              "#ed7953"
             ],
             [
              0.7777777777777778,
              "#fb9f3a"
             ],
             [
              0.8888888888888888,
              "#fdca26"
             ],
             [
              1,
              "#f0f921"
             ]
            ],
            "type": "heatmap"
           }
          ],
          "histogram": [
           {
            "marker": {
             "pattern": {
              "fillmode": "overlay",
              "size": 10,
              "solidity": 0.2
             }
            },
            "type": "histogram"
           }
          ],
          "histogram2d": [
           {
            "colorbar": {
             "outlinewidth": 0,
             "ticks": ""
            },
            "colorscale": [
             [
              0,
              "#0d0887"
             ],
             [
              0.1111111111111111,
              "#46039f"
             ],
             [
              0.2222222222222222,
              "#7201a8"
             ],
             [
              0.3333333333333333,
              "#9c179e"
             ],
             [
              0.4444444444444444,
              "#bd3786"
             ],
             [
              0.5555555555555556,
              "#d8576b"
             ],
             [
              0.6666666666666666,
              "#ed7953"
             ],
             [
              0.7777777777777778,
              "#fb9f3a"
             ],
             [
              0.8888888888888888,
              "#fdca26"
             ],
             [
              1,
              "#f0f921"
             ]
            ],
            "type": "histogram2d"
           }
          ],
          "histogram2dcontour": [
           {
            "colorbar": {
             "outlinewidth": 0,
             "ticks": ""
            },
            "colorscale": [
             [
              0,
              "#0d0887"
             ],
             [
              0.1111111111111111,
              "#46039f"
             ],
             [
              0.2222222222222222,
              "#7201a8"
             ],
             [
              0.3333333333333333,
              "#9c179e"
             ],
             [
              0.4444444444444444,
              "#bd3786"
             ],
             [
              0.5555555555555556,
              "#d8576b"
             ],
             [
              0.6666666666666666,
              "#ed7953"
             ],
             [
              0.7777777777777778,
              "#fb9f3a"
             ],
             [
              0.8888888888888888,
              "#fdca26"
             ],
             [
              1,
              "#f0f921"
             ]
            ],
            "type": "histogram2dcontour"
           }
          ],
          "mesh3d": [
           {
            "colorbar": {
             "outlinewidth": 0,
             "ticks": ""
            },
            "type": "mesh3d"
           }
          ],
          "parcoords": [
           {
            "line": {
             "colorbar": {
              "outlinewidth": 0,
              "ticks": ""
             }
            },
            "type": "parcoords"
           }
          ],
          "pie": [
           {
            "automargin": true,
            "type": "pie"
           }
          ],
          "scatter": [
           {
            "fillpattern": {
             "fillmode": "overlay",
             "size": 10,
             "solidity": 0.2
            },
            "type": "scatter"
           }
          ],
          "scatter3d": [
           {
            "line": {
             "colorbar": {
              "outlinewidth": 0,
              "ticks": ""
             }
            },
            "marker": {
             "colorbar": {
              "outlinewidth": 0,
              "ticks": ""
             }
            },
            "type": "scatter3d"
           }
          ],
          "scattercarpet": [
           {
            "marker": {
             "colorbar": {
              "outlinewidth": 0,
              "ticks": ""
             }
            },
            "type": "scattercarpet"
           }
          ],
          "scattergeo": [
           {
            "marker": {
             "colorbar": {
              "outlinewidth": 0,
              "ticks": ""
             }
            },
            "type": "scattergeo"
           }
          ],
          "scattergl": [
           {
            "marker": {
             "colorbar": {
              "outlinewidth": 0,
              "ticks": ""
             }
            },
            "type": "scattergl"
           }
          ],
          "scattermap": [
           {
            "marker": {
             "colorbar": {
              "outlinewidth": 0,
              "ticks": ""
             }
            },
            "type": "scattermap"
           }
          ],
          "scattermapbox": [
           {
            "marker": {
             "colorbar": {
              "outlinewidth": 0,
              "ticks": ""
             }
            },
            "type": "scattermapbox"
           }
          ],
          "scatterpolar": [
           {
            "marker": {
             "colorbar": {
              "outlinewidth": 0,
              "ticks": ""
             }
            },
            "type": "scatterpolar"
           }
          ],
          "scatterpolargl": [
           {
            "marker": {
             "colorbar": {
              "outlinewidth": 0,
              "ticks": ""
             }
            },
            "type": "scatterpolargl"
           }
          ],
          "scatterternary": [
           {
            "marker": {
             "colorbar": {
              "outlinewidth": 0,
              "ticks": ""
             }
            },
            "type": "scatterternary"
           }
          ],
          "surface": [
           {
            "colorbar": {
             "outlinewidth": 0,
             "ticks": ""
            },
            "colorscale": [
             [
              0,
              "#0d0887"
             ],
             [
              0.1111111111111111,
              "#46039f"
             ],
             [
              0.2222222222222222,
              "#7201a8"
             ],
             [
              0.3333333333333333,
              "#9c179e"
             ],
             [
              0.4444444444444444,
              "#bd3786"
             ],
             [
              0.5555555555555556,
              "#d8576b"
             ],
             [
              0.6666666666666666,
              "#ed7953"
             ],
             [
              0.7777777777777778,
              "#fb9f3a"
             ],
             [
              0.8888888888888888,
              "#fdca26"
             ],
             [
              1,
              "#f0f921"
             ]
            ],
            "type": "surface"
           }
          ],
          "table": [
           {
            "cells": {
             "fill": {
              "color": "#EBF0F8"
             },
             "line": {
              "color": "white"
             }
            },
            "header": {
             "fill": {
              "color": "#C8D4E3"
             },
             "line": {
              "color": "white"
             }
            },
            "type": "table"
           }
          ]
         },
         "layout": {
          "annotationdefaults": {
           "arrowcolor": "#2a3f5f",
           "arrowhead": 0,
           "arrowwidth": 1
          },
          "autotypenumbers": "strict",
          "coloraxis": {
           "colorbar": {
            "outlinewidth": 0,
            "ticks": ""
           }
          },
          "colorscale": {
           "diverging": [
            [
             0,
             "#8e0152"
            ],
            [
             0.1,
             "#c51b7d"
            ],
            [
             0.2,
             "#de77ae"
            ],
            [
             0.3,
             "#f1b6da"
            ],
            [
             0.4,
             "#fde0ef"
            ],
            [
             0.5,
             "#f7f7f7"
            ],
            [
             0.6,
             "#e6f5d0"
            ],
            [
             0.7,
             "#b8e186"
            ],
            [
             0.8,
             "#7fbc41"
            ],
            [
             0.9,
             "#4d9221"
            ],
            [
             1,
             "#276419"
            ]
           ],
           "sequential": [
            [
             0,
             "#0d0887"
            ],
            [
             0.1111111111111111,
             "#46039f"
            ],
            [
             0.2222222222222222,
             "#7201a8"
            ],
            [
             0.3333333333333333,
             "#9c179e"
            ],
            [
             0.4444444444444444,
             "#bd3786"
            ],
            [
             0.5555555555555556,
             "#d8576b"
            ],
            [
             0.6666666666666666,
             "#ed7953"
            ],
            [
             0.7777777777777778,
             "#fb9f3a"
            ],
            [
             0.8888888888888888,
             "#fdca26"
            ],
            [
             1,
             "#f0f921"
            ]
           ],
           "sequentialminus": [
            [
             0,
             "#0d0887"
            ],
            [
             0.1111111111111111,
             "#46039f"
            ],
            [
             0.2222222222222222,
             "#7201a8"
            ],
            [
             0.3333333333333333,
             "#9c179e"
            ],
            [
             0.4444444444444444,
             "#bd3786"
            ],
            [
             0.5555555555555556,
             "#d8576b"
            ],
            [
             0.6666666666666666,
             "#ed7953"
            ],
            [
             0.7777777777777778,
             "#fb9f3a"
            ],
            [
             0.8888888888888888,
             "#fdca26"
            ],
            [
             1,
             "#f0f921"
            ]
           ]
          },
          "colorway": [
           "#636efa",
           "#EF553B",
           "#00cc96",
           "#ab63fa",
           "#FFA15A",
           "#19d3f3",
           "#FF6692",
           "#B6E880",
           "#FF97FF",
           "#FECB52"
          ],
          "font": {
           "color": "#2a3f5f"
          },
          "geo": {
           "bgcolor": "white",
           "lakecolor": "white",
           "landcolor": "#E5ECF6",
           "showlakes": true,
           "showland": true,
           "subunitcolor": "white"
          },
          "hoverlabel": {
           "align": "left"
          },
          "hovermode": "closest",
          "mapbox": {
           "style": "light"
          },
          "paper_bgcolor": "white",
          "plot_bgcolor": "#E5ECF6",
          "polar": {
           "angularaxis": {
            "gridcolor": "white",
            "linecolor": "white",
            "ticks": ""
           },
           "bgcolor": "#E5ECF6",
           "radialaxis": {
            "gridcolor": "white",
            "linecolor": "white",
            "ticks": ""
           }
          },
          "scene": {
           "xaxis": {
            "backgroundcolor": "#E5ECF6",
            "gridcolor": "white",
            "gridwidth": 2,
            "linecolor": "white",
            "showbackground": true,
            "ticks": "",
            "zerolinecolor": "white"
           },
           "yaxis": {
            "backgroundcolor": "#E5ECF6",
            "gridcolor": "white",
            "gridwidth": 2,
            "linecolor": "white",
            "showbackground": true,
            "ticks": "",
            "zerolinecolor": "white"
           },
           "zaxis": {
            "backgroundcolor": "#E5ECF6",
            "gridcolor": "white",
            "gridwidth": 2,
            "linecolor": "white",
            "showbackground": true,
            "ticks": "",
            "zerolinecolor": "white"
           }
          },
          "shapedefaults": {
           "line": {
            "color": "#2a3f5f"
           }
          },
          "ternary": {
           "aaxis": {
            "gridcolor": "white",
            "linecolor": "white",
            "ticks": ""
           },
           "baxis": {
            "gridcolor": "white",
            "linecolor": "white",
            "ticks": ""
           },
           "bgcolor": "#E5ECF6",
           "caxis": {
            "gridcolor": "white",
            "linecolor": "white",
            "ticks": ""
           }
          },
          "title": {
           "x": 0.05
          },
          "xaxis": {
           "automargin": true,
           "gridcolor": "white",
           "linecolor": "white",
           "ticks": "",
           "title": {
            "standoff": 15
           },
           "zerolinecolor": "white",
           "zerolinewidth": 2
          },
          "yaxis": {
           "automargin": true,
           "gridcolor": "white",
           "linecolor": "white",
           "ticks": "",
           "title": {
            "standoff": 15
           },
           "zerolinecolor": "white",
           "zerolinewidth": 2
          }
         }
        },
        "title": {
         "text": "Correlation matrix"
        },
        "width": 800,
        "xaxis": {
         "anchor": "y",
         "domain": [
          0,
          1
         ],
         "side": "top",
         "tickangle": -45,
         "title": {
          "text": ""
         }
        },
        "yaxis": {
         "anchor": "x",
         "autorange": "reversed",
         "domain": [
          0,
          1
         ],
         "title": {
          "text": ""
         }
        }
       }
      }
     },
     "metadata": {},
     "output_type": "display_data"
    }
   ],
   "source": [
    "corr = df.corr()\n",
    "cols = ['target'] + [c for c in corr.columns if c != 'target']\n",
    "corr = corr.loc[cols, cols]\n",
    "\n",
    "fig = px.imshow(\n",
    "    corr,\n",
    "    text_auto=\".2f\",                 \n",
    "    color_continuous_scale=\"RdBu\",\n",
    "    zmin=-1, zmax=1,\n",
    "    aspect=\"auto\",\n",
    ")\n",
    "fig.update_layout(\n",
    "    title='Correlation matrix',\n",
    "    xaxis_title='', yaxis_title='', coloraxis_colorbar_title='corr'\n",
    ")\n",
    "fig.update_xaxes(side='top', tickangle=-45)\n",
    "fig.update_layout(width=800, height=800)\n",
    "fig.show()"
   ]
  },
  {
   "cell_type": "markdown",
   "metadata": {},
   "source": [
    "* Difficulties walking seem to be moderately assocatied with a poor general health.\n",
    "* Poor physical health, poor mental health and poor general health all seem to have moderate correlation to eachother, the strongest association being poor physical health and poor general health.\n",
    "* Physical activity seem to have a weak correlation to difficulty walking and poor physical health.\n",
    "* General health has weak asociation woth physical activity. "
   ]
  },
  {
   "cell_type": "markdown",
   "metadata": {},
   "source": [
    "## Self reported health\n",
    "The earlier correlation matrix indicated overlap between the self-reported health features. To assess whether they could be merged into a single feature, or if one or more could be removed, I plotted them side by side using boxplots for comparison. Since General Health is measured on a different scale (1–5) than Physical and Mental Health (0–30), I normalized all features to a 0–1 range to make their distributions directly comparable."
   ]
  },
  {
   "cell_type": "code",
   "execution_count": 48,
   "metadata": {},
   "outputs": [
    {
     "data": {
      "image/png": "[encoded data removed]",
      "text/plain": [
       "<Figure size 640x480 with 1 Axes>"
      ]
     },
     "metadata": {},
     "output_type": "display_data"
    }
   ],
   "source": [
    "health_features = [\"GenHlth\", \"PhysHlth\", \"MentHlth\"]\n",
    "df_scaled = df.copy()\n",
    "\n",
    "scaler = MinMaxScaler()\n",
    "df_scaled[health_features] = scaler.fit_transform(df_scaled[health_features])\n",
    "\n",
    "df_melted = df_scaled.melt(id_vars=\"target\", value_vars=health_features,\n",
    "                           var_name=\"Feature\", value_name=\"Value\")\n",
    "\n",
    "sns.boxplot(data=df_melted, x=\"Feature\", y=\"Value\", hue=\"target\")\n",
    "plt.title(\"Scaled health features (0–1 range)\")\n",
    "plt.show()"
   ]
  },
  {
   "cell_type": "markdown",
   "metadata": {},
   "source": [
    "The distributions of Mental Health and Physical Health appear quite similar, and both are correlated with General Health. Moreover, the information captured by Physical Health may partly overlap with the Physical Activity variable, which could already account for limitations in daily functioning. Therefore, dropping Physical Health might simplify the model while retaining most of the relevant information, reducing redundancy between predictors."
   ]
  },
  {
   "cell_type": "code",
   "execution_count": 49,
   "metadata": {},
   "outputs": [
    {
     "data": {
      "image/png": "[encoded data removed]",
      "text/plain": [
       "<Figure size 1000x600 with 1 Axes>"
      ]
     },
     "metadata": {},
     "output_type": "display_data"
    }
   ],
   "source": [
    "health_df = X[['Age', 'PhysHlth', 'MentHlth']].copy()\n",
    "\n",
    "# Invert values as higher values indicate worse health\n",
    "health_df['PhysHlth'] = -health_df['PhysHlth']\n",
    "health_df['MentHlth'] = -health_df['MentHlth']\n",
    "\n",
    "health_long = health_df.melt(\n",
    "    id_vars=\"Age\", \n",
    "    value_vars=[\"PhysHlth\", \"MentHlth\"], \n",
    "    var_name=\"HealthFeature\", \n",
    "    value_name=\"Score\"\n",
    ")\n",
    "\n",
    "plt.figure(figsize=(10,6))\n",
    "sns.lineplot(data=health_long, x=\"Age\", y=\"Score\", hue=\"HealthFeature\", estimator=\"mean\")\n",
    "plt.title(\"Physical & Mental Health by Age\")\n",
    "plt.ylabel(\"Average (higher = better health)\")\n",
    "plt.show()\n"
   ]
  },
  {
   "cell_type": "code",
   "execution_count": 50,
   "metadata": {},
   "outputs": [
    {
     "data": {
      "image/png": "[encoded data removed]",
      "text/plain": [
       "<Figure size 1000x600 with 1 Axes>"
      ]
     },
     "metadata": {},
     "output_type": "display_data"
    }
   ],
   "source": [
    "health_df = X[['Age', 'GenHlth']].copy()\n",
    "\n",
    "\n",
    "health_df['GenHlth'] = -health_df['GenHlth']\n",
    "\n",
    "plt.figure(figsize=(10,6))\n",
    "sns.lineplot(data=health_df, x=\"Age\", y=\"GenHlth\", estimator=\"mean\", color=\"blue\")\n",
    "plt.title(\"General Health by Age (inverted scale)\")\n",
    "plt.ylabel(\"Average (higher = better health)\")\n",
    "plt.show()\n"
   ]
  },
  {
   "cell_type": "markdown",
   "metadata": {},
   "source": [
    "Physical health seem to follow almost exactly the same pattern as general health, i.e., gets worse with age. Mental health on the other hand gets better."
   ]
  },
  {
   "cell_type": "code",
   "execution_count": 51,
   "metadata": {},
   "outputs": [
    {
     "data": {
      "text/html": [
       "<div>\n",
       "<style scoped>\n",
       "    .dataframe tbody tr th:only-of-type {\n",
       "        vertical-align: middle;\n",
       "    }\n",
       "\n",
       "    .dataframe tbody tr th {\n",
       "        vertical-align: top;\n",
       "    }\n",
       "\n",
       "    .dataframe thead th {\n",
       "        text-align: right;\n",
       "    }\n",
       "</style>\n",
       "<table border=\"1\" class=\"dataframe\">\n",
       "  <thead>\n",
       "    <tr style=\"text-align: right;\">\n",
       "      <th></th>\n",
       "      <th>HighBP</th>\n",
       "      <th>BMI</th>\n",
       "      <th>Smoker</th>\n",
       "      <th>Stroke</th>\n",
       "      <th>HeartDiseaseorAttack</th>\n",
       "      <th>PhysActivity</th>\n",
       "      <th>Fruits</th>\n",
       "      <th>Veggies</th>\n",
       "      <th>HvyAlcoholConsump</th>\n",
       "      <th>GenHlth</th>\n",
       "      <th>MentHlth</th>\n",
       "      <th>PhysHlth</th>\n",
       "      <th>DiffWalk</th>\n",
       "      <th>Sex</th>\n",
       "      <th>Age</th>\n",
       "    </tr>\n",
       "  </thead>\n",
       "  <tbody>\n",
       "    <tr>\n",
       "      <th>0</th>\n",
       "      <td>1</td>\n",
       "      <td>40</td>\n",
       "      <td>1</td>\n",
       "      <td>0</td>\n",
       "      <td>0</td>\n",
       "      <td>0</td>\n",
       "      <td>0</td>\n",
       "      <td>1</td>\n",
       "      <td>0</td>\n",
       "      <td>5</td>\n",
       "      <td>18</td>\n",
       "      <td>15</td>\n",
       "      <td>1</td>\n",
       "      <td>0</td>\n",
       "      <td>9</td>\n",
       "    </tr>\n",
       "    <tr>\n",
       "      <th>1</th>\n",
       "      <td>0</td>\n",
       "      <td>25</td>\n",
       "      <td>1</td>\n",
       "      <td>0</td>\n",
       "      <td>0</td>\n",
       "      <td>1</td>\n",
       "      <td>0</td>\n",
       "      <td>0</td>\n",
       "      <td>0</td>\n",
       "      <td>3</td>\n",
       "      <td>0</td>\n",
       "      <td>0</td>\n",
       "      <td>0</td>\n",
       "      <td>0</td>\n",
       "      <td>7</td>\n",
       "    </tr>\n",
       "    <tr>\n",
       "      <th>2</th>\n",
       "      <td>1</td>\n",
       "      <td>28</td>\n",
       "      <td>0</td>\n",
       "      <td>0</td>\n",
       "      <td>0</td>\n",
       "      <td>0</td>\n",
       "      <td>1</td>\n",
       "      <td>0</td>\n",
       "      <td>0</td>\n",
       "      <td>5</td>\n",
       "      <td>30</td>\n",
       "      <td>30</td>\n",
       "      <td>1</td>\n",
       "      <td>0</td>\n",
       "      <td>9</td>\n",
       "    </tr>\n",
       "    <tr>\n",
       "      <th>3</th>\n",
       "      <td>1</td>\n",
       "      <td>27</td>\n",
       "      <td>0</td>\n",
       "      <td>0</td>\n",
       "      <td>0</td>\n",
       "      <td>1</td>\n",
       "      <td>1</td>\n",
       "      <td>1</td>\n",
       "      <td>0</td>\n",
       "      <td>2</td>\n",
       "      <td>0</td>\n",
       "      <td>0</td>\n",
       "      <td>0</td>\n",
       "      <td>0</td>\n",
       "      <td>11</td>\n",
       "    </tr>\n",
       "    <tr>\n",
       "      <th>4</th>\n",
       "      <td>1</td>\n",
       "      <td>24</td>\n",
       "      <td>0</td>\n",
       "      <td>0</td>\n",
       "      <td>0</td>\n",
       "      <td>1</td>\n",
       "      <td>1</td>\n",
       "      <td>1</td>\n",
       "      <td>0</td>\n",
       "      <td>2</td>\n",
       "      <td>3</td>\n",
       "      <td>0</td>\n",
       "      <td>0</td>\n",
       "      <td>0</td>\n",
       "      <td>11</td>\n",
       "    </tr>\n",
       "  </tbody>\n",
       "</table>\n",
       "</div>"
      ],
      "text/plain": [
       "   HighBP  BMI  Smoker  Stroke  HeartDiseaseorAttack  PhysActivity  Fruits  \\\n",
       "0       1   40       1       0                     0             0       0   \n",
       "1       0   25       1       0                     0             1       0   \n",
       "2       1   28       0       0                     0             0       1   \n",
       "3       1   27       0       0                     0             1       1   \n",
       "4       1   24       0       0                     0             1       1   \n",
       "\n",
       "   Veggies  HvyAlcoholConsump  GenHlth  MentHlth  PhysHlth  DiffWalk  Sex  Age  \n",
       "0        1                  0        5        18        15         1    0    9  \n",
       "1        0                  0        3         0         0         0    0    7  \n",
       "2        0                  0        5        30        30         1    0    9  \n",
       "3        1                  0        2         0         0         0    0   11  \n",
       "4        1                  0        2         3         0         0    0   11  "
      ]
     },
     "execution_count": 51,
     "metadata": {},
     "output_type": "execute_result"
    }
   ],
   "source": [
    "X.head()"
   ]
  },
  {
   "cell_type": "code",
   "execution_count": 52,
   "metadata": {},
   "outputs": [
    {
     "data": {
      "text/plain": [
       "<Axes: title={'center': 'Diabetes'}, xlabel='Diabetes_binary'>"
      ]
     },
     "execution_count": 52,
     "metadata": {},
     "output_type": "execute_result"
    },
    {
     "data": {
      "image/png": "[encoded data removed]",
      "text/plain": [
       "<Figure size 640x480 with 1 Axes>"
      ]
     },
     "metadata": {},
     "output_type": "display_data"
    }
   ],
   "source": [
    "y.value_counts(normalize=True).plot(kind=\"bar\", title=\"Diabetes\")"
   ]
  },
  {
   "cell_type": "markdown",
   "metadata": {},
   "source": [
    "# Model"
   ]
  },
  {
   "cell_type": "code",
   "execution_count": 53,
   "metadata": {},
   "outputs": [],
   "source": [
    "X_ml = X.to_numpy()\n",
    "y_ml = y.to_numpy().ravel()"
   ]
  },
  {
   "cell_type": "code",
   "execution_count": 54,
   "metadata": {},
   "outputs": [
    {
     "name": "stdout",
     "output_type": "stream",
     "text": [
      "(253680,)\n"
     ]
    }
   ],
   "source": [
    "print(y_ml.shape)"
   ]
  },
  {
   "cell_type": "code",
   "execution_count": 55,
   "metadata": {},
   "outputs": [],
   "source": [
    "X_small, _, y_small, _ = train_test_split(\n",
    "    X_ml, y_ml, train_size=20000, stratify=y, random_state=42\n",
    ")\n"
   ]
  },
  {
   "cell_type": "markdown",
   "metadata": {},
   "source": [
    "Because of the large dataset I will start by training on a small subset (n=20 000). Based on the result I will move on with the best model and train on the whole dataset."
   ]
  },
  {
   "cell_type": "code",
   "execution_count": 57,
   "metadata": {},
   "outputs": [],
   "source": [
    "# Dict of classifiers with tuned hyperparameters\n",
    "classifiers = {\n",
    "    \"Decision Tree (depth=10)\": DecisionTreeClassifier(\n",
    "        max_depth=10, \n",
    "        min_samples_leaf=1,             \n",
    "        class_weight=\"balanced\", \n",
    "        random_state=42\n",
    "    ),\n",
    "\n",
    "    \"Decision Tree (depth=5)\": DecisionTreeClassifier(\n",
    "        max_depth=5, \n",
    "        min_samples_leaf=5,             \n",
    "        class_weight=\"balanced\", \n",
    "        random_state=42\n",
    "    ),\n",
    "\n",
    "    \"Random Forest (600 trees)\": RandomForestClassifier(\n",
    "        n_estimators=600, \n",
    "        max_depth=None,                 \n",
    "        min_samples_leaf=1, \n",
    "        class_weight=\"balanced_subsample\",\n",
    "        max_features=\"sqrt\",\n",
    "        n_jobs=-1, \n",
    "        random_state=42\n",
    "    ),\n",
    "\n",
    "    \"Random Forest (200 trees)\": RandomForestClassifier(\n",
    "        n_estimators=200, \n",
    "        max_depth=None, \n",
    "        min_samples_leaf=1, \n",
    "        class_weight=\"balanced_subsample\",\n",
    "        max_features=\"sqrt\",\n",
    "        n_jobs=-1, \n",
    "        random_state=42\n",
    "    ),\n",
    "\n",
    "    \"SVM (rbf)\": SVC(\n",
    "        kernel='rbf', \n",
    "        C=0.5,                           \n",
    "        gamma='scale',                  \n",
    "        class_weight='balanced',         \n",
    "        probability=True,                \n",
    "        random_state=42\n",
    "    ),\n",
    "\n",
    "    \"SVM (linear)\": SVC(\n",
    "        kernel='linear', \n",
    "        C=0.3,                           \n",
    "        class_weight='balanced', \n",
    "        probability=True,\n",
    "        random_state=42\n",
    "    ),\n",
    "\n",
    "    \"LogReg (L2)\": LogisticRegression(\n",
    "        penalty='l2', \n",
    "        C=0.5,                           \n",
    "        class_weight='balanced', \n",
    "        solver='liblinear', \n",
    "        max_iter=2000,\n",
    "        random_state=42\n",
    "    ),\n",
    "\n",
    "    \"LogReg (L1)\": LogisticRegression(\n",
    "        penalty='l1', \n",
    "        C=1.0, \n",
    "        class_weight='balanced', \n",
    "        solver='liblinear', \n",
    "        max_iter=2000,\n",
    "        random_state=42\n",
    "    ),\n",
    "\n",
    "   \n",
    "    \"HistGradientBoosting\": HistGradientBoostingClassifier(\n",
    "        max_depth=5,                     \n",
    "        learning_rate=0.05,              \n",
    "        max_iter=600,                    \n",
    "        early_stopping=False,            \n",
    "        l2_regularization=0.0, \n",
    "        max_bins=255,\n",
    "        random_state=42\n",
    "    ),\n",
    "\n",
    "    \n",
    "    \"XGBoost\": XGBClassifier(\n",
    "        n_estimators=600,\n",
    "        max_depth=4,\n",
    "        learning_rate=0.05,\n",
    "        subsample=0.8,\n",
    "        colsample_bytree=0.8,\n",
    "        min_child_weight=1,\n",
    "        reg_lambda=1.0,\n",
    "        eval_metric=\"aucpr\",             \n",
    "        scale_pos_weight=scale_pos,     \n",
    "        n_jobs=-1,\n",
    "        random_state=42\n",
    "    ),\n",
    "}"
   ]
  },
  {
   "cell_type": "code",
   "execution_count": 58,
   "metadata": {},
   "outputs": [
    {
     "data": {
      "text/html": [
       "<div>\n",
       "<style scoped>\n",
       "    .dataframe tbody tr th:only-of-type {\n",
       "        vertical-align: middle;\n",
       "    }\n",
       "\n",
       "    .dataframe tbody tr th {\n",
       "        vertical-align: top;\n",
       "    }\n",
       "\n",
       "    .dataframe thead th {\n",
       "        text-align: right;\n",
       "    }\n",
       "</style>\n",
       "<table border=\"1\" class=\"dataframe\">\n",
       "  <thead>\n",
       "    <tr style=\"text-align: right;\">\n",
       "      <th></th>\n",
       "      <th>classifier_name</th>\n",
       "      <th>training_time</th>\n",
       "      <th>prediction_time</th>\n",
       "      <th>accuracy</th>\n",
       "      <th>precision</th>\n",
       "      <th>recall</th>\n",
       "      <th>f1</th>\n",
       "    </tr>\n",
       "  </thead>\n",
       "  <tbody>\n",
       "    <tr>\n",
       "      <th>0</th>\n",
       "      <td>Decision Tree (depth=10)</td>\n",
       "      <td>0.0683</td>\n",
       "      <td>0.0683</td>\n",
       "      <td>0.70675</td>\n",
       "      <td>0.281451</td>\n",
       "      <td>0.708291</td>\n",
       "      <td>0.402651</td>\n",
       "    </tr>\n",
       "    <tr>\n",
       "      <th>1</th>\n",
       "      <td>Decision Tree (depth=5)</td>\n",
       "      <td>0.0412</td>\n",
       "      <td>0.0412</td>\n",
       "      <td>0.67905</td>\n",
       "      <td>0.276824</td>\n",
       "      <td>0.804463</td>\n",
       "      <td>0.411583</td>\n",
       "    </tr>\n",
       "    <tr>\n",
       "      <th>2</th>\n",
       "      <td>Random Forest (600 trees)</td>\n",
       "      <td>4.5049</td>\n",
       "      <td>4.5049</td>\n",
       "      <td>0.84875</td>\n",
       "      <td>0.386789</td>\n",
       "      <td>0.143518</td>\n",
       "      <td>0.208878</td>\n",
       "    </tr>\n",
       "    <tr>\n",
       "      <th>3</th>\n",
       "      <td>Random Forest (200 trees)</td>\n",
       "      <td>1.5297</td>\n",
       "      <td>1.5297</td>\n",
       "      <td>0.84740</td>\n",
       "      <td>0.376359</td>\n",
       "      <td>0.141007</td>\n",
       "      <td>0.204577</td>\n",
       "    </tr>\n",
       "    <tr>\n",
       "      <th>4</th>\n",
       "      <td>SVM (rbf)</td>\n",
       "      <td>83.3447</td>\n",
       "      <td>83.3447</td>\n",
       "      <td>0.69385</td>\n",
       "      <td>0.286980</td>\n",
       "      <td>0.806248</td>\n",
       "      <td>0.423272</td>\n",
       "    </tr>\n",
       "    <tr>\n",
       "      <th>5</th>\n",
       "      <td>SVM (linear)</td>\n",
       "      <td>76.1908</td>\n",
       "      <td>76.1908</td>\n",
       "      <td>0.70475</td>\n",
       "      <td>0.293851</td>\n",
       "      <td>0.796564</td>\n",
       "      <td>0.429294</td>\n",
       "    </tr>\n",
       "    <tr>\n",
       "      <th>6</th>\n",
       "      <td>LogReg (L2)</td>\n",
       "      <td>0.1004</td>\n",
       "      <td>0.1004</td>\n",
       "      <td>0.72685</td>\n",
       "      <td>0.307523</td>\n",
       "      <td>0.766419</td>\n",
       "      <td>0.438893</td>\n",
       "    </tr>\n",
       "    <tr>\n",
       "      <th>7</th>\n",
       "      <td>LogReg (L1)</td>\n",
       "      <td>0.3219</td>\n",
       "      <td>0.3219</td>\n",
       "      <td>0.72780</td>\n",
       "      <td>0.307846</td>\n",
       "      <td>0.763191</td>\n",
       "      <td>0.438692</td>\n",
       "    </tr>\n",
       "    <tr>\n",
       "      <th>8</th>\n",
       "      <td>HistGradientBoosting</td>\n",
       "      <td>2.1073</td>\n",
       "      <td>2.1073</td>\n",
       "      <td>0.85935</td>\n",
       "      <td>0.485243</td>\n",
       "      <td>0.149623</td>\n",
       "      <td>0.228628</td>\n",
       "    </tr>\n",
       "    <tr>\n",
       "      <th>9</th>\n",
       "      <td>XGBoost</td>\n",
       "      <td>1.3972</td>\n",
       "      <td>1.3972</td>\n",
       "      <td>0.73110</td>\n",
       "      <td>0.308536</td>\n",
       "      <td>0.748119</td>\n",
       "      <td>0.436853</td>\n",
       "    </tr>\n",
       "  </tbody>\n",
       "</table>\n",
       "</div>"
      ],
      "text/plain": [
       "             classifier_name  training_time  prediction_time  accuracy  \\\n",
       "0   Decision Tree (depth=10)         0.0683           0.0683   0.70675   \n",
       "1    Decision Tree (depth=5)         0.0412           0.0412   0.67905   \n",
       "2  Random Forest (600 trees)         4.5049           4.5049   0.84875   \n",
       "3  Random Forest (200 trees)         1.5297           1.5297   0.84740   \n",
       "4                  SVM (rbf)        83.3447          83.3447   0.69385   \n",
       "5               SVM (linear)        76.1908          76.1908   0.70475   \n",
       "6                LogReg (L2)         0.1004           0.1004   0.72685   \n",
       "7                LogReg (L1)         0.3219           0.3219   0.72780   \n",
       "8       HistGradientBoosting         2.1073           2.1073   0.85935   \n",
       "9                    XGBoost         1.3972           1.3972   0.73110   \n",
       "\n",
       "   precision    recall        f1  \n",
       "0   0.281451  0.708291  0.402651  \n",
       "1   0.276824  0.804463  0.411583  \n",
       "2   0.386789  0.143518  0.208878  \n",
       "3   0.376359  0.141007  0.204577  \n",
       "4   0.286980  0.806248  0.423272  \n",
       "5   0.293851  0.796564  0.429294  \n",
       "6   0.307523  0.766419  0.438893  \n",
       "7   0.307846  0.763191  0.438692  \n",
       "8   0.485243  0.149623  0.228628  \n",
       "9   0.308536  0.748119  0.436853  "
      ]
     },
     "execution_count": 58,
     "metadata": {},
     "output_type": "execute_result"
    }
   ],
   "source": [
    "# Define which metrics to track during cross-validation\n",
    "scoring = {\n",
    "    'accuracy': 'accuracy',\n",
    "    'precision': 'precision',\n",
    "    'recall': 'recall',\n",
    "    'f1': 'f1'\n",
    "}\n",
    "\n",
    "cv_results = []\n",
    "\n",
    "# Loop through each classifier\n",
    "for name, clf in classifiers.items():\n",
    "    # Start timer for training + cross-validated prediction\n",
    "    t_start = time.time()\n",
    "\n",
    "    # Perform 5-fold cross-validation\n",
    "    scores = cross_validate(\n",
    "        clf,\n",
    "        X_small,\n",
    "        y_small,\n",
    "        cv=5,\n",
    "        scoring=scoring,\n",
    "        return_train_score=False\n",
    "    )\n",
    "\n",
    "    t_end = time.time()\n",
    "\n",
    "    # Estimate total time and split roughly 50/50 between training and prediction\n",
    "    total_time = t_end - t_start\n",
    "    training_time = total_time / 2\n",
    "    prediction_time = total_time / 2\n",
    "\n",
    "    # Save mean scores across all folds\n",
    "    result = {\n",
    "        \"classifier_name\": name,\n",
    "        \"training_time\": round(training_time, 4),\n",
    "        \"prediction_time\": round(prediction_time, 4),\n",
    "        \"accuracy\": scores['test_accuracy'].mean(),\n",
    "        \"precision\": scores['test_precision'].mean(),\n",
    "        \"recall\": scores['test_recall'].mean(),\n",
    "        \"f1\": scores['test_f1'].mean()\n",
    "    }\n",
    "\n",
    "    cv_results.append(result)\n",
    "\n",
    "# Convert results to DataFrame\n",
    "results = pd.DataFrame(cv_results)\n",
    "results"
   ]
  },
  {
   "cell_type": "code",
   "execution_count": 59,
   "metadata": {},
   "outputs": [
    {
     "data": {
      "text/html": [
       "<div>\n",
       "<style scoped>\n",
       "    .dataframe tbody tr th:only-of-type {\n",
       "        vertical-align: middle;\n",
       "    }\n",
       "\n",
       "    .dataframe tbody tr th {\n",
       "        vertical-align: top;\n",
       "    }\n",
       "\n",
       "    .dataframe thead th {\n",
       "        text-align: right;\n",
       "    }\n",
       "</style>\n",
       "<table border=\"1\" class=\"dataframe\">\n",
       "  <thead>\n",
       "    <tr style=\"text-align: right;\">\n",
       "      <th></th>\n",
       "      <th>model</th>\n",
       "      <th>best_parameters</th>\n",
       "      <th>best_f1</th>\n",
       "    </tr>\n",
       "  </thead>\n",
       "  <tbody>\n",
       "    <tr>\n",
       "      <th>0</th>\n",
       "      <td>Decision Tree</td>\n",
       "      <td>{'clf__max_depth': 5}</td>\n",
       "      <td>0.412351</td>\n",
       "    </tr>\n",
       "    <tr>\n",
       "      <th>1</th>\n",
       "      <td>Random Forest</td>\n",
       "      <td>{'clf__max_depth': 8, 'clf__n_estimators': 500}</td>\n",
       "      <td>0.439177</td>\n",
       "    </tr>\n",
       "    <tr>\n",
       "      <th>2</th>\n",
       "      <td>Gradient Boosting</td>\n",
       "      <td>{'clf__max_depth': 5, 'clf__n_estimators': 100}</td>\n",
       "      <td>0.438586</td>\n",
       "    </tr>\n",
       "    <tr>\n",
       "      <th>3</th>\n",
       "      <td>HistGradientBoosting</td>\n",
       "      <td>{'clf__max_depth': 3}</td>\n",
       "      <td>0.438833</td>\n",
       "    </tr>\n",
       "    <tr>\n",
       "      <th>4</th>\n",
       "      <td>XGBoost</td>\n",
       "      <td>{'clf__max_depth': 3, 'clf__n_estimators': 100}</td>\n",
       "      <td>0.438824</td>\n",
       "    </tr>\n",
       "    <tr>\n",
       "      <th>5</th>\n",
       "      <td>SVM (linear)</td>\n",
       "      <td>{'clf__C': 0.1}</td>\n",
       "      <td>0.428503</td>\n",
       "    </tr>\n",
       "    <tr>\n",
       "      <th>6</th>\n",
       "      <td>Logistic Regression</td>\n",
       "      <td>{'clf__C': 0.1}</td>\n",
       "      <td>0.438749</td>\n",
       "    </tr>\n",
       "  </tbody>\n",
       "</table>\n",
       "</div>"
      ],
      "text/plain": [
       "                  model                                  best_parameters  \\\n",
       "0         Decision Tree                            {'clf__max_depth': 5}   \n",
       "1         Random Forest  {'clf__max_depth': 8, 'clf__n_estimators': 500}   \n",
       "2     Gradient Boosting  {'clf__max_depth': 5, 'clf__n_estimators': 100}   \n",
       "3  HistGradientBoosting                            {'clf__max_depth': 3}   \n",
       "4               XGBoost  {'clf__max_depth': 3, 'clf__n_estimators': 100}   \n",
       "5          SVM (linear)                                  {'clf__C': 0.1}   \n",
       "6   Logistic Regression                                  {'clf__C': 0.1}   \n",
       "\n",
       "    best_f1  \n",
       "0  0.412351  \n",
       "1  0.439177  \n",
       "2  0.438586  \n",
       "3  0.438833  \n",
       "4  0.438824  \n",
       "5  0.428503  \n",
       "6  0.438749  "
      ]
     },
     "execution_count": 59,
     "metadata": {},
     "output_type": "execute_result"
    }
   ],
   "source": [
    "# Training with grid search and cross-validation\n",
    "pos = (y_small == 1).sum()\n",
    "neg = (y_small == 0).sum()\n",
    "scale_pos = (neg / pos) if pos else 1.0                \n",
    "sw_balanced = compute_sample_weight(\"balanced\", y_small)\n",
    "\n",
    "models_and_grids = {\n",
    "    \"Decision Tree\": (\n",
    "        DecisionTreeClassifier(random_state=42, class_weight=\"balanced\"),\n",
    "        {\"clf__max_depth\": [3, 5, 10]}\n",
    "    ),\n",
    "    \"Random Forest\": (\n",
    "        RandomForestClassifier(n_jobs=-1, random_state=42, class_weight=\"balanced\"),\n",
    "        {\"clf__n_estimators\": [200, 500], \"clf__max_depth\": [5, 8]}\n",
    "    ),\n",
    "    \"Gradient Boosting\": (\n",
    "        GradientBoostingClassifier(random_state=42),\n",
    "        {\"clf__n_estimators\": [100, 200], \"clf__max_depth\": [3, 5]}\n",
    "    ),\n",
    "    \"HistGradientBoosting\": (\n",
    "        HistGradientBoostingClassifier(random_state=42),\n",
    "        {\"clf__max_depth\": [3, 5]}\n",
    "    ),\n",
    "    \"XGBoost\": (\n",
    "        XGBClassifier(eval_metric=\"aucpr\", random_state=42, n_jobs=-1, scale_pos_weight=scale_pos),\n",
    "        {\"clf__n_estimators\": [100, 200], \"clf__max_depth\": [3, 5]}\n",
    "    ),\n",
    "    \"SVM (linear)\": (\n",
    "        SVC(kernel=\"linear\", probability=False, random_state=42, class_weight=\"balanced\"),\n",
    "        {\"clf__C\": [0.1, 1, 10]}\n",
    "    ),\n",
    "    \"Logistic Regression\": (\n",
    "        LogisticRegression(max_iter=500, solver=\"liblinear\", random_state=42, class_weight=\"balanced\"),\n",
    "        {\"clf__C\": [0.1, 1, 10]}\n",
    "    ),\n",
    "}\n",
    "\n",
    "cv = StratifiedKFold(n_splits=5, shuffle=True, random_state=42)\n",
    "scoring = {\"pr_auc\": \"average_precision\", \"roc_auc\": \"roc_auc\", \"f1\": \"f1\"}\n",
    "\n",
    "results = []\n",
    "for name, (clf, param_grid) in models_and_grids.items():\n",
    "    pipe = Pipeline([(\"scaler\", StandardScaler()), (\"clf\", clf)])\n",
    "    grid = GridSearchCV(pipe, param_grid=param_grid, cv=cv, scoring=scoring, refit='f1', n_jobs=-1)\n",
    "    fit_params = {}\n",
    "    if name in ['Gradient Boosting', 'HistGradientBoosting']:\n",
    "        fit_params = {\"clf__sample_weight\": sw_balanced}\n",
    "\n",
    "    grid.fit(X_small, y_small, **fit_params)\n",
    "    results.append({\n",
    "    \"model\": name,\n",
    "    \"best_parameters\": grid.best_params_,\n",
    "    \"best_f1\": grid.best_score_\n",
    "})\n",
    "\n",
    "\n",
    "results_df = pd.DataFrame(results)\n",
    "results_df"
   ]
  },
  {
   "cell_type": "code",
   "execution_count": 60,
   "metadata": {},
   "outputs": [
    {
     "name": "stdout",
     "output_type": "stream",
     "text": [
      "Random Forest performance:\n",
      "Accuracy: 0.7136352885525071\n",
      "Precision: 0.297326668115627\n",
      "Recall: 0.7740840288583958\n",
      "F1: 0.42963137439641974\n",
      "ROC-AUC: 0.8129813555744385\n",
      "\n",
      "Classification report:\n",
      "               precision    recall  f1-score   support\n",
      "\n",
      "           0       0.95      0.70      0.81     43667\n",
      "           1       0.30      0.77      0.43      7069\n",
      "\n",
      "    accuracy                           0.71     50736\n",
      "   macro avg       0.62      0.74      0.62     50736\n",
      "weighted avg       0.86      0.71      0.76     50736\n",
      "\n"
     ]
    },
    {
     "data": {
      "image/png": "[encoded data removed]",
      "text/plain": [
       "<Figure size 600x800 with 1 Axes>"
      ]
     },
     "metadata": {},
     "output_type": "display_data"
    },
    {
     "name": "stdout",
     "output_type": "stream",
     "text": [
      "\n",
      "XGBoost performance:\n",
      "Accuracy: 0.8637456638284453\n",
      "Precision: 0.5419354838709678\n",
      "Recall: 0.14259442636865186\n",
      "F1: 0.2257811625041998\n",
      "ROC-AUC: 0.8177483047012427\n",
      "\n",
      "Classification report:\n",
      "               precision    recall  f1-score   support\n",
      "\n",
      "           0       0.88      0.98      0.93     43667\n",
      "           1       0.54      0.14      0.23      7069\n",
      "\n",
      "    accuracy                           0.86     50736\n",
      "   macro avg       0.71      0.56      0.58     50736\n",
      "weighted avg       0.83      0.86      0.83     50736\n",
      "\n"
     ]
    },
    {
     "data": {
      "image/png": "[encoded data removed]",
      "text/plain": [
       "<Figure size 600x800 with 1 Axes>"
      ]
     },
     "metadata": {},
     "output_type": "display_data"
    }
   ],
   "source": [
    "# Check feature importances for tree-based models\n",
    "X_tr, X_val, y_tr, y_val = train_test_split(X_ml, y_ml, test_size=0.2, stratify=y, random_state=42)\n",
    "\n",
    "# RF\n",
    "rf = RandomForestClassifier(n_estimators=300, max_depth=8, n_jobs=-1, class_weight=\"balanced\", random_state=42)\n",
    "rf.fit(X_tr, y_tr)\n",
    "\n",
    "rf_preds = rf.predict(X_val)\n",
    "rf_probs = rf.predict_proba(X_val)[:, 1]  \n",
    "\n",
    "print(\"Random Forest performance:\")\n",
    "print(\"Accuracy:\", accuracy_score(y_val, rf_preds))\n",
    "print(\"Precision:\", precision_score(y_val, rf_preds))\n",
    "print(\"Recall:\", recall_score(y_val, rf_preds))\n",
    "print(\"F1:\", f1_score(y_val, rf_preds))\n",
    "print(\"ROC-AUC:\", roc_auc_score(y_val, rf_probs))\n",
    "print(\"\\nClassification report:\\n\", classification_report(y_val, rf_preds))\n",
    "\n",
    "\n",
    "rf_imp = pd.Series(rf.feature_importances_, index=X.columns).sort_values(ascending=True)\n",
    "rf_imp.plot(kind=\"barh\", figsize=(6,8))\n",
    "plt.title(\"Random Forest – feature importance\")\n",
    "plt.show()\n",
    "\n",
    "# XGBoost\n",
    "xgb = XGBClassifier(n_estimators=300, max_depth=5, learning_rate=0.1,\n",
    "                    eval_metric=\"aucpr\", n_jobs=-1, random_state=42)\n",
    "xgb.fit(X_tr, y_tr)\n",
    "\n",
    "xgb_preds = xgb.predict(X_val)\n",
    "xgb_probs = xgb.predict_proba(X_val)[:, 1]\n",
    "\n",
    "print(\"\\nXGBoost performance:\")\n",
    "print(\"Accuracy:\", accuracy_score(y_val, xgb_preds))\n",
    "print(\"Precision:\", precision_score(y_val, xgb_preds))\n",
    "print(\"Recall:\", recall_score(y_val, xgb_preds))\n",
    "print(\"F1:\", f1_score(y_val, xgb_preds))\n",
    "print(\"ROC-AUC:\", roc_auc_score(y_val, xgb_probs))\n",
    "print(\"\\nClassification report:\\n\", classification_report(y_val, xgb_preds))\n",
    "\n",
    "xgb_imp = pd.Series(xgb.feature_importances_, index=X.columns).sort_values(ascending=True)\n",
    "xgb_imp.plot(kind=\"barh\", figsize=(6,8))\n",
    "plt.title(\"XGBoost – feature importance\")\n",
    "plt.show()"
   ]
  },
  {
   "cell_type": "code",
   "execution_count": 61,
   "metadata": {},
   "outputs": [
    {
     "data": {
      "text/html": [
       "<div>\n",
       "<style scoped>\n",
       "    .dataframe tbody tr th:only-of-type {\n",
       "        vertical-align: middle;\n",
       "    }\n",
       "\n",
       "    .dataframe tbody tr th {\n",
       "        vertical-align: top;\n",
       "    }\n",
       "\n",
       "    .dataframe thead th {\n",
       "        text-align: right;\n",
       "    }\n",
       "</style>\n",
       "<table border=\"1\" class=\"dataframe\">\n",
       "  <thead>\n",
       "    <tr style=\"text-align: right;\">\n",
       "      <th></th>\n",
       "      <th>model</th>\n",
       "      <th>best_parameters</th>\n",
       "      <th>best_f2</th>\n",
       "      <th>cv_recall</th>\n",
       "      <th>cv_f1</th>\n",
       "      <th>cv_pr_auc</th>\n",
       "    </tr>\n",
       "  </thead>\n",
       "  <tbody>\n",
       "    <tr>\n",
       "      <th>3</th>\n",
       "      <td>HistGradientBoosting</td>\n",
       "      <td>{'clf__max_depth': 3}</td>\n",
       "      <td>0.599686</td>\n",
       "      <td>0.793681</td>\n",
       "      <td>0.438833</td>\n",
       "      <td>0.402401</td>\n",
       "    </tr>\n",
       "    <tr>\n",
       "      <th>2</th>\n",
       "      <td>Gradient Boosting</td>\n",
       "      <td>{'clf__max_depth': 3, 'clf__n_estimators': 400}</td>\n",
       "      <td>0.593758</td>\n",
       "      <td>0.773230</td>\n",
       "      <td>0.440528</td>\n",
       "      <td>0.392114</td>\n",
       "    </tr>\n",
       "    <tr>\n",
       "      <th>6</th>\n",
       "      <td>Logistic Regression</td>\n",
       "      <td>{'clf__C': 0.05, 'clf__penalty': 'l1'}</td>\n",
       "      <td>0.590534</td>\n",
       "      <td>0.766045</td>\n",
       "      <td>0.439543</td>\n",
       "      <td>0.383570</td>\n",
       "    </tr>\n",
       "    <tr>\n",
       "      <th>1</th>\n",
       "      <td>Random Forest</td>\n",
       "      <td>{'clf__max_depth': None, 'clf__min_samples_lea...</td>\n",
       "      <td>0.588744</td>\n",
       "      <td>0.848931</td>\n",
       "      <td>0.403357</td>\n",
       "      <td>0.378890</td>\n",
       "    </tr>\n",
       "    <tr>\n",
       "      <th>4</th>\n",
       "      <td>XGBoost</td>\n",
       "      <td>{'clf__colsample_bytree': 1.0, 'clf__max_depth...</td>\n",
       "      <td>0.561075</td>\n",
       "      <td>0.907777</td>\n",
       "      <td>0.356745</td>\n",
       "      <td>0.356722</td>\n",
       "    </tr>\n",
       "    <tr>\n",
       "      <th>0</th>\n",
       "      <td>Decision Tree</td>\n",
       "      <td>{'clf__max_depth': 10, 'clf__min_samples_leaf'...</td>\n",
       "      <td>0.538267</td>\n",
       "      <td>0.897020</td>\n",
       "      <td>0.336486</td>\n",
       "      <td>0.338569</td>\n",
       "    </tr>\n",
       "    <tr>\n",
       "      <th>5</th>\n",
       "      <td>SVM (linear)</td>\n",
       "      <td>{'clf__C': 0.05}</td>\n",
       "      <td>0.447380</td>\n",
       "      <td>1.000000</td>\n",
       "      <td>0.244613</td>\n",
       "      <td>0.339115</td>\n",
       "    </tr>\n",
       "  </tbody>\n",
       "</table>\n",
       "</div>"
      ],
      "text/plain": [
       "                  model                                    best_parameters  \\\n",
       "3  HistGradientBoosting                              {'clf__max_depth': 3}   \n",
       "2     Gradient Boosting    {'clf__max_depth': 3, 'clf__n_estimators': 400}   \n",
       "6   Logistic Regression             {'clf__C': 0.05, 'clf__penalty': 'l1'}   \n",
       "1         Random Forest  {'clf__max_depth': None, 'clf__min_samples_lea...   \n",
       "4               XGBoost  {'clf__colsample_bytree': 1.0, 'clf__max_depth...   \n",
       "0         Decision Tree  {'clf__max_depth': 10, 'clf__min_samples_leaf'...   \n",
       "5          SVM (linear)                                   {'clf__C': 0.05}   \n",
       "\n",
       "    best_f2  cv_recall     cv_f1  cv_pr_auc  \n",
       "3  0.599686   0.793681  0.438833   0.402401  \n",
       "2  0.593758   0.773230  0.440528   0.392114  \n",
       "6  0.590534   0.766045  0.439543   0.383570  \n",
       "1  0.588744   0.848931  0.403357   0.378890  \n",
       "4  0.561075   0.907777  0.356745   0.356722  \n",
       "0  0.538267   0.897020  0.336486   0.338569  \n",
       "5  0.447380   1.000000  0.244613   0.339115  "
      ]
     },
     "execution_count": 61,
     "metadata": {},
     "output_type": "execute_result"
    }
   ],
   "source": [
    "# Here is where i gave up and just asked chatGPT\n",
    "\n",
    "# class weights & scale_pos_weight (utan .value_counts)\n",
    "sw_balanced = compute_sample_weight(\"balanced\", y_small)\n",
    "pos = int((y_small == 1).sum())\n",
    "neg = int((y_small == 0).sum())\n",
    "scale_pos = (neg / pos) if pos else 1.0\n",
    "\n",
    "# 2) Scorers som gynnar recall (F2 > F1). Refit på F2.\n",
    "f2_scorer = make_scorer(fbeta_score, beta=2)\n",
    "recall_scorer = make_scorer(recall_score)\n",
    "\n",
    "scoring = {\n",
    "    \"pr_auc\": \"average_precision\",\n",
    "    \"roc_auc\": \"roc_auc\",\n",
    "    \"f1\": \"f1\",\n",
    "    \"f2\": f2_scorer,\n",
    "    \"recall\": recall_scorer,\n",
    "}\n",
    "\n",
    "# 3) Modeller + grid (något utökad för recall)\n",
    "models_and_grids = {\n",
    "    \"Decision Tree\": (\n",
    "        DecisionTreeClassifier(random_state=42, class_weight=\"balanced\"),\n",
    "        {\"clf__max_depth\": [3, 5, 10], \"clf__min_samples_leaf\": [1, 5, 20]}\n",
    "    ),\n",
    "    \"Random Forest\": (\n",
    "        RandomForestClassifier(\n",
    "            n_jobs=-1, random_state=42, class_weight=\"balanced_subsample\"\n",
    "        ),\n",
    "        {\"clf__n_estimators\": [300, 600], \"clf__max_depth\": [5, 8, None],\n",
    "         \"clf__min_samples_leaf\": [1, 5]}\n",
    "    ),\n",
    "    \"Gradient Boosting\": (\n",
    "        GradientBoostingClassifier(random_state=42),\n",
    "        {\"clf__n_estimators\": [200, 400], \"clf__max_depth\": [3, 5]}\n",
    "    ),\n",
    "    \"HistGradientBoosting\": (\n",
    "        HistGradientBoostingClassifier(random_state=42),\n",
    "        {\"clf__max_depth\": [None, 3, 5]}\n",
    "    ),\n",
    "    \"XGBoost\": (\n",
    "        XGBClassifier(\n",
    "            eval_metric=\"aucpr\", random_state=42, n_jobs=-1,\n",
    "            scale_pos_weight=scale_pos\n",
    "        ),\n",
    "        {\"clf__n_estimators\": [300, 600], \"clf__max_depth\": [3, 5],\n",
    "         \"clf__subsample\": [0.7, 1.0], \"clf__colsample_bytree\": [0.7, 1.0]}\n",
    "    ),\n",
    "    \"SVM (linear)\": (\n",
    "        SVC(kernel=\"linear\", probability=False, random_state=42, class_weight=\"balanced\"),\n",
    "        {\"clf__C\": [0.05, 0.1, 1, 10]}\n",
    "    ),\n",
    "    \"Logistic Regression\": (\n",
    "        LogisticRegression(max_iter=2000, solver=\"saga\", random_state=42, class_weight=\"balanced\"),\n",
    "        {\"clf__C\": [0.05, 0.1, 1, 10], \"clf__penalty\": [\"l1\", \"l2\"]}\n",
    "    ),\n",
    "}\n",
    "\n",
    "# 4) Skala bara där det behövs (träd ignorerar skala)\n",
    "use_scaler = StandardScaler()\n",
    "cv = StratifiedKFold(n_splits=5, shuffle=True, random_state=42)\n",
    "\n",
    "def needs_scaling(model_name: str) -> bool:\n",
    "    # Endast linjära modeller behöver skala; träd (inkl. XGBoost) gör inte det\n",
    "    return model_name in {\"SVM (linear)\", \"Logistic Regression\"}\n",
    "\n",
    "def supports_sample_weight(model_name: str) -> bool:\n",
    "    return model_name in {\n",
    "        \"Decision Tree\",\"Random Forest\",\"Gradient Boosting\",\n",
    "        \"HistGradientBoosting\",\"XGBoost\",\"SVM (linear)\",\"Logistic Regression\"\n",
    "    }\n",
    "\n",
    "results = []\n",
    "best_estimators = {}\n",
    "\n",
    "for name, (clf, param_grid) in models_and_grids.items():\n",
    "    steps = []\n",
    "    steps.append((\"scaler\", use_scaler if needs_scaling(name) else \"passthrough\"))\n",
    "    steps.append((\"clf\", clf))\n",
    "    pipe = Pipeline(steps)\n",
    "\n",
    "    grid = GridSearchCV(\n",
    "        pipe, param_grid=param_grid, cv=cv, scoring=scoring, refit=\"f2\", n_jobs=-1\n",
    "    )\n",
    "\n",
    "    fit_params = {}\n",
    "    if supports_sample_weight(name):\n",
    "        fit_params[\"clf__sample_weight\"] = sw_balanced\n",
    "\n",
    "    grid.fit(X_small, y_small, **fit_params)\n",
    "    results.append({\n",
    "        \"model\": name,\n",
    "        \"best_parameters\": grid.best_params_,\n",
    "        \"best_f2\": grid.best_score_,\n",
    "        \"cv_recall\": grid.cv_results_[f\"mean_test_recall\"][grid.best_index_],\n",
    "        \"cv_f1\": grid.cv_results_[f\"mean_test_f1\"][grid.best_index_],\n",
    "        \"cv_pr_auc\": grid.cv_results_[f\"mean_test_pr_auc\"][grid.best_index_],\n",
    "    })\n",
    "    best_estimators[name] = grid.best_estimator_\n",
    "\n",
    "results_df = pd.DataFrame(results).sort_values(\"best_f2\", ascending=False)\n",
    "results_df"
   ]
  },
  {
   "cell_type": "code",
   "execution_count": 62,
   "metadata": {},
   "outputs": [
    {
     "data": {
      "image/png": "[encoded data removed]",
      "text/plain": [
       "<Figure size 400x300 with 2 Axes>"
      ]
     },
     "metadata": {},
     "output_type": "display_data"
    },
    {
     "data": {
      "image/png": "[encoded data removed]",
      "text/plain": [
       "<Figure size 400x300 with 2 Axes>"
      ]
     },
     "metadata": {},
     "output_type": "display_data"
    },
    {
     "data": {
      "image/png": "[encoded data removed]",
      "text/plain": [
       "<Figure size 400x300 with 2 Axes>"
      ]
     },
     "metadata": {},
     "output_type": "display_data"
    },
    {
     "data": {
      "image/png": "[encoded data removed]",
      "text/plain": [
       "<Figure size 400x300 with 2 Axes>"
      ]
     },
     "metadata": {},
     "output_type": "display_data"
    },
    {
     "data": {
      "image/png": "[encoded data removed]",
      "text/plain": [
       "<Figure size 400x300 with 2 Axes>"
      ]
     },
     "metadata": {},
     "output_type": "display_data"
    },
    {
     "data": {
      "image/png": "[encoded data removed]",
      "text/plain": [
       "<Figure size 400x300 with 2 Axes>"
      ]
     },
     "metadata": {},
     "output_type": "display_data"
    },
    {
     "data": {
      "image/png": "[encoded data removed]",
      "text/plain": [
       "<Figure size 400x300 with 2 Axes>"
      ]
     },
     "metadata": {},
     "output_type": "display_data"
    },
    {
     "name": "stdout",
     "output_type": "stream",
     "text": [
      "Decision Tree:\n",
      "  TN=11957, FP=5256, FN=779, TP=2008\n",
      "\n",
      "Random Forest:\n",
      "  TN=13968, FP=3245, FN=1018, TP=1769\n",
      "\n",
      "Gradient Boosting:\n",
      "  TN=16804, FP=409, FN=2381, TP=406\n",
      "\n",
      "HistGradientBoosting:\n",
      "  TN=16913, FP=300, FN=2448, TP=339\n",
      "\n",
      "XGBoost:\n",
      "  TN=12739, FP=4474, FN=825, TP=1962\n",
      "\n",
      "SVM (linear):\n",
      "  TN=11854, FP=5359, FN=568, TP=2219\n",
      "\n",
      "Logistic Regression:\n",
      "  TN=12420, FP=4793, FN=652, TP=2135\n",
      "\n"
     ]
    }
   ],
   "source": [
    "# Confusion matrices for chatgpt code\n",
    "\n",
    "conf_mats = {}\n",
    "\n",
    "for name, est in best_estimators.items():\n",
    "    # Gör CV-prediktioner på samma data\n",
    "    y_pred = cross_val_predict(est, X_small, y_small, cv=cv, n_jobs=-1)\n",
    "\n",
    "    # Beräkna confusion matrix\n",
    "    cm = confusion_matrix(y_small, y_pred, labels=[0, 1])\n",
    "    conf_mats[name] = cm\n",
    "\n",
    "    # Plotta snyggt\n",
    "    plt.figure(figsize=(4, 3))\n",
    "    sns.heatmap(cm, annot=True, fmt=\"d\", cmap=\"Blues\", xticklabels=[0, 1], yticklabels=[0, 1])\n",
    "    plt.title(f\"Confusion Matrix: {name}\")\n",
    "    plt.xlabel(\"Predicted\")\n",
    "    plt.ylabel(\"Actual\")\n",
    "    plt.show()\n",
    "\n",
    "# Om du även vill ha siffrorna direkt:\n",
    "for name, cm in conf_mats.items():\n",
    "    tn, fp, fn, tp = cm.ravel()\n",
    "    print(f\"{name}:\")\n",
    "    print(f\"  TN={tn}, FP={fp}, FN={fn}, TP={tp}\\n\")\n"
   ]
  },
  {
   "cell_type": "markdown",
   "metadata": {},
   "source": [
    "## Attempt 2, leaner model"
   ]
  },
  {
   "cell_type": "code",
   "execution_count": 63,
   "metadata": {},
   "outputs": [
    {
     "data": {
      "text/html": [
       "<div>\n",
       "<style scoped>\n",
       "    .dataframe tbody tr th:only-of-type {\n",
       "        vertical-align: middle;\n",
       "    }\n",
       "\n",
       "    .dataframe tbody tr th {\n",
       "        vertical-align: top;\n",
       "    }\n",
       "\n",
       "    .dataframe thead th {\n",
       "        text-align: right;\n",
       "    }\n",
       "</style>\n",
       "<table border=\"1\" class=\"dataframe\">\n",
       "  <thead>\n",
       "    <tr style=\"text-align: right;\">\n",
       "      <th></th>\n",
       "      <th>HighBP</th>\n",
       "      <th>Smoker</th>\n",
       "      <th>Stroke</th>\n",
       "      <th>HeartDiseaseorAttack</th>\n",
       "      <th>PhysActivity</th>\n",
       "      <th>Fruits</th>\n",
       "      <th>Veggies</th>\n",
       "      <th>HvyAlcoholConsump</th>\n",
       "      <th>GenHlth</th>\n",
       "      <th>MentHlth</th>\n",
       "      <th>PhysHlth</th>\n",
       "      <th>DiffWalk</th>\n",
       "      <th>Sex</th>\n",
       "      <th>Age</th>\n",
       "      <th>BMI_core</th>\n",
       "    </tr>\n",
       "  </thead>\n",
       "  <tbody>\n",
       "    <tr>\n",
       "      <th>0</th>\n",
       "      <td>1</td>\n",
       "      <td>1</td>\n",
       "      <td>0</td>\n",
       "      <td>0</td>\n",
       "      <td>0</td>\n",
       "      <td>0</td>\n",
       "      <td>1</td>\n",
       "      <td>0</td>\n",
       "      <td>5</td>\n",
       "      <td>18</td>\n",
       "      <td>15</td>\n",
       "      <td>1</td>\n",
       "      <td>0</td>\n",
       "      <td>9</td>\n",
       "      <td>40</td>\n",
       "    </tr>\n",
       "    <tr>\n",
       "      <th>1</th>\n",
       "      <td>0</td>\n",
       "      <td>1</td>\n",
       "      <td>0</td>\n",
       "      <td>0</td>\n",
       "      <td>1</td>\n",
       "      <td>0</td>\n",
       "      <td>0</td>\n",
       "      <td>0</td>\n",
       "      <td>3</td>\n",
       "      <td>0</td>\n",
       "      <td>0</td>\n",
       "      <td>0</td>\n",
       "      <td>0</td>\n",
       "      <td>7</td>\n",
       "      <td>25</td>\n",
       "    </tr>\n",
       "    <tr>\n",
       "      <th>2</th>\n",
       "      <td>1</td>\n",
       "      <td>0</td>\n",
       "      <td>0</td>\n",
       "      <td>0</td>\n",
       "      <td>0</td>\n",
       "      <td>1</td>\n",
       "      <td>0</td>\n",
       "      <td>0</td>\n",
       "      <td>5</td>\n",
       "      <td>30</td>\n",
       "      <td>30</td>\n",
       "      <td>1</td>\n",
       "      <td>0</td>\n",
       "      <td>9</td>\n",
       "      <td>28</td>\n",
       "    </tr>\n",
       "    <tr>\n",
       "      <th>3</th>\n",
       "      <td>1</td>\n",
       "      <td>0</td>\n",
       "      <td>0</td>\n",
       "      <td>0</td>\n",
       "      <td>1</td>\n",
       "      <td>1</td>\n",
       "      <td>1</td>\n",
       "      <td>0</td>\n",
       "      <td>2</td>\n",
       "      <td>0</td>\n",
       "      <td>0</td>\n",
       "      <td>0</td>\n",
       "      <td>0</td>\n",
       "      <td>11</td>\n",
       "      <td>27</td>\n",
       "    </tr>\n",
       "    <tr>\n",
       "      <th>4</th>\n",
       "      <td>1</td>\n",
       "      <td>0</td>\n",
       "      <td>0</td>\n",
       "      <td>0</td>\n",
       "      <td>1</td>\n",
       "      <td>1</td>\n",
       "      <td>1</td>\n",
       "      <td>0</td>\n",
       "      <td>2</td>\n",
       "      <td>3</td>\n",
       "      <td>0</td>\n",
       "      <td>0</td>\n",
       "      <td>0</td>\n",
       "      <td>11</td>\n",
       "      <td>24</td>\n",
       "    </tr>\n",
       "  </tbody>\n",
       "</table>\n",
       "</div>"
      ],
      "text/plain": [
       "   HighBP  Smoker  Stroke  HeartDiseaseorAttack  PhysActivity  Fruits  \\\n",
       "0       1       1       0                     0             0       0   \n",
       "1       0       1       0                     0             1       0   \n",
       "2       1       0       0                     0             0       1   \n",
       "3       1       0       0                     0             1       1   \n",
       "4       1       0       0                     0             1       1   \n",
       "\n",
       "   Veggies  HvyAlcoholConsump  GenHlth  MentHlth  PhysHlth  DiffWalk  Sex  \\\n",
       "0        1                  0        5        18        15         1    0   \n",
       "1        0                  0        3         0         0         0    0   \n",
       "2        0                  0        5        30        30         1    0   \n",
       "3        1                  0        2         0         0         0    0   \n",
       "4        1                  0        2         3         0         0    0   \n",
       "\n",
       "   Age  BMI_core  \n",
       "0    9        40  \n",
       "1    7        25  \n",
       "2    9        28  \n",
       "3   11        27  \n",
       "4   11        24  "
      ]
     },
     "execution_count": 63,
     "metadata": {},
     "output_type": "execute_result"
    }
   ],
   "source": [
    "X[\"BMI_core\"] = X[\"BMI\"].clip(lower=15, upper=60)\n",
    "X = X.drop(columns=['BMI'])\n",
    "X.head()"
   ]
  },
  {
   "cell_type": "code",
   "execution_count": 64,
   "metadata": {},
   "outputs": [],
   "source": [
    "X_lean = X[['HighBP', 'BMI_core', 'HeartDiseaseorAttack', 'GenHlth', 'Age', 'PhysActivity']]"
   ]
  },
  {
   "cell_type": "code",
   "execution_count": 65,
   "metadata": {},
   "outputs": [],
   "source": [
    "X_lean = X_lean.to_numpy()\n",
    "y_lean = y.to_numpy().ravel()"
   ]
  },
  {
   "cell_type": "code",
   "execution_count": 66,
   "metadata": {},
   "outputs": [],
   "source": [
    "X_small, _, y_small, _ = train_test_split(\n",
    "    X_lean, y_lean, train_size=20000, stratify=y, random_state=42\n",
    ")"
   ]
  },
  {
   "cell_type": "code",
   "execution_count": 67,
   "metadata": {},
   "outputs": [
    {
     "data": {
      "text/html": [
       "<div>\n",
       "<style scoped>\n",
       "    .dataframe tbody tr th:only-of-type {\n",
       "        vertical-align: middle;\n",
       "    }\n",
       "\n",
       "    .dataframe tbody tr th {\n",
       "        vertical-align: top;\n",
       "    }\n",
       "\n",
       "    .dataframe thead th {\n",
       "        text-align: right;\n",
       "    }\n",
       "</style>\n",
       "<table border=\"1\" class=\"dataframe\">\n",
       "  <thead>\n",
       "    <tr style=\"text-align: right;\">\n",
       "      <th></th>\n",
       "      <th>classifier_name</th>\n",
       "      <th>training_time</th>\n",
       "      <th>prediction_time</th>\n",
       "      <th>accuracy</th>\n",
       "      <th>precision</th>\n",
       "      <th>recall</th>\n",
       "      <th>f1</th>\n",
       "    </tr>\n",
       "  </thead>\n",
       "  <tbody>\n",
       "    <tr>\n",
       "      <th>0</th>\n",
       "      <td>Decision Tree (depth=10)</td>\n",
       "      <td>0.0395</td>\n",
       "      <td>0.0395</td>\n",
       "      <td>0.70490</td>\n",
       "      <td>0.284257</td>\n",
       "      <td>0.735210</td>\n",
       "      <td>0.409971</td>\n",
       "    </tr>\n",
       "    <tr>\n",
       "      <th>1</th>\n",
       "      <td>Decision Tree (depth=5)</td>\n",
       "      <td>0.0298</td>\n",
       "      <td>0.0298</td>\n",
       "      <td>0.67620</td>\n",
       "      <td>0.275082</td>\n",
       "      <td>0.805537</td>\n",
       "      <td>0.409807</td>\n",
       "    </tr>\n",
       "    <tr>\n",
       "      <th>2</th>\n",
       "      <td>Random Forest (600 trees)</td>\n",
       "      <td>5.5722</td>\n",
       "      <td>5.5722</td>\n",
       "      <td>0.78145</td>\n",
       "      <td>0.300858</td>\n",
       "      <td>0.429503</td>\n",
       "      <td>0.353769</td>\n",
       "    </tr>\n",
       "    <tr>\n",
       "      <th>3</th>\n",
       "      <td>Random Forest (200 trees)</td>\n",
       "      <td>1.8602</td>\n",
       "      <td>1.8602</td>\n",
       "      <td>0.78030</td>\n",
       "      <td>0.299217</td>\n",
       "      <td>0.429864</td>\n",
       "      <td>0.352696</td>\n",
       "    </tr>\n",
       "    <tr>\n",
       "      <th>4</th>\n",
       "      <td>SVM (rbf)</td>\n",
       "      <td>69.3330</td>\n",
       "      <td>69.3330</td>\n",
       "      <td>0.70230</td>\n",
       "      <td>0.292267</td>\n",
       "      <td>0.798719</td>\n",
       "      <td>0.427895</td>\n",
       "    </tr>\n",
       "    <tr>\n",
       "      <th>5</th>\n",
       "      <td>SVM (linear)</td>\n",
       "      <td>53.3576</td>\n",
       "      <td>53.3576</td>\n",
       "      <td>0.70240</td>\n",
       "      <td>0.291519</td>\n",
       "      <td>0.793694</td>\n",
       "      <td>0.426410</td>\n",
       "    </tr>\n",
       "    <tr>\n",
       "      <th>6</th>\n",
       "      <td>LogReg (L2)</td>\n",
       "      <td>0.0480</td>\n",
       "      <td>0.0480</td>\n",
       "      <td>0.72400</td>\n",
       "      <td>0.304295</td>\n",
       "      <td>0.762118</td>\n",
       "      <td>0.434912</td>\n",
       "    </tr>\n",
       "    <tr>\n",
       "      <th>7</th>\n",
       "      <td>LogReg (L1)</td>\n",
       "      <td>0.2793</td>\n",
       "      <td>0.2793</td>\n",
       "      <td>0.72485</td>\n",
       "      <td>0.304894</td>\n",
       "      <td>0.761042</td>\n",
       "      <td>0.435339</td>\n",
       "    </tr>\n",
       "    <tr>\n",
       "      <th>8</th>\n",
       "      <td>HistGradientBoosting</td>\n",
       "      <td>1.7876</td>\n",
       "      <td>1.7876</td>\n",
       "      <td>0.86220</td>\n",
       "      <td>0.521312</td>\n",
       "      <td>0.132401</td>\n",
       "      <td>0.211069</td>\n",
       "    </tr>\n",
       "    <tr>\n",
       "      <th>9</th>\n",
       "      <td>XGBoost</td>\n",
       "      <td>0.7583</td>\n",
       "      <td>0.7583</td>\n",
       "      <td>0.71245</td>\n",
       "      <td>0.297091</td>\n",
       "      <td>0.777547</td>\n",
       "      <td>0.429883</td>\n",
       "    </tr>\n",
       "  </tbody>\n",
       "</table>\n",
       "</div>"
      ],
      "text/plain": [
       "             classifier_name  training_time  prediction_time  accuracy  \\\n",
       "0   Decision Tree (depth=10)         0.0395           0.0395   0.70490   \n",
       "1    Decision Tree (depth=5)         0.0298           0.0298   0.67620   \n",
       "2  Random Forest (600 trees)         5.5722           5.5722   0.78145   \n",
       "3  Random Forest (200 trees)         1.8602           1.8602   0.78030   \n",
       "4                  SVM (rbf)        69.3330          69.3330   0.70230   \n",
       "5               SVM (linear)        53.3576          53.3576   0.70240   \n",
       "6                LogReg (L2)         0.0480           0.0480   0.72400   \n",
       "7                LogReg (L1)         0.2793           0.2793   0.72485   \n",
       "8       HistGradientBoosting         1.7876           1.7876   0.86220   \n",
       "9                    XGBoost         0.7583           0.7583   0.71245   \n",
       "\n",
       "   precision    recall        f1  \n",
       "0   0.284257  0.735210  0.409971  \n",
       "1   0.275082  0.805537  0.409807  \n",
       "2   0.300858  0.429503  0.353769  \n",
       "3   0.299217  0.429864  0.352696  \n",
       "4   0.292267  0.798719  0.427895  \n",
       "5   0.291519  0.793694  0.426410  \n",
       "6   0.304295  0.762118  0.434912  \n",
       "7   0.304894  0.761042  0.435339  \n",
       "8   0.521312  0.132401  0.211069  \n",
       "9   0.297091  0.777547  0.429883  "
      ]
     },
     "execution_count": 67,
     "metadata": {},
     "output_type": "execute_result"
    }
   ],
   "source": [
    "# Define which metrics to track during cross-validation\n",
    "scoring = {\n",
    "    'accuracy': 'accuracy',\n",
    "    'precision': 'precision',\n",
    "    'recall': 'recall',\n",
    "    'f1': 'f1'\n",
    "}\n",
    "\n",
    "cv_results = []\n",
    "\n",
    "# Loop through each classifier\n",
    "for name, clf in classifiers.items():\n",
    "    # Start timer for training + cross-validated prediction\n",
    "    t_start = time.time()\n",
    "\n",
    "    # Perform 5-fold cross-validation\n",
    "    scores = cross_validate(\n",
    "        clf,\n",
    "        X_small,\n",
    "        y_small,\n",
    "        cv=5,\n",
    "        scoring=scoring,\n",
    "        return_train_score=False\n",
    "    )\n",
    "\n",
    "    t_end = time.time()\n",
    "\n",
    "    # Estimate total time and split roughly 50/50 between training and prediction\n",
    "    total_time = t_end - t_start\n",
    "    training_time = total_time / 2\n",
    "    prediction_time = total_time / 2\n",
    "\n",
    "    # Save mean scores across all folds\n",
    "    result = {\n",
    "        \"classifier_name\": name,\n",
    "        \"training_time\": round(training_time, 4),\n",
    "        \"prediction_time\": round(prediction_time, 4),\n",
    "        \"accuracy\": scores['test_accuracy'].mean(),\n",
    "        \"precision\": scores['test_precision'].mean(),\n",
    "        \"recall\": scores['test_recall'].mean(),\n",
    "        \"f1\": scores['test_f1'].mean()\n",
    "    }\n",
    "\n",
    "    cv_results.append(result)\n",
    "\n",
    "# Convert results to DataFrame\n",
    "results = pd.DataFrame(cv_results)\n",
    "results"
   ]
  },
  {
   "cell_type": "code",
   "execution_count": 68,
   "metadata": {},
   "outputs": [
    {
     "data": {
      "text/html": [
       "<div>\n",
       "<style scoped>\n",
       "    .dataframe tbody tr th:only-of-type {\n",
       "        vertical-align: middle;\n",
       "    }\n",
       "\n",
       "    .dataframe tbody tr th {\n",
       "        vertical-align: top;\n",
       "    }\n",
       "\n",
       "    .dataframe thead th {\n",
       "        text-align: right;\n",
       "    }\n",
       "</style>\n",
       "<table border=\"1\" class=\"dataframe\">\n",
       "  <thead>\n",
       "    <tr style=\"text-align: right;\">\n",
       "      <th></th>\n",
       "      <th>model</th>\n",
       "      <th>best_parameters</th>\n",
       "      <th>best_f1</th>\n",
       "    </tr>\n",
       "  </thead>\n",
       "  <tbody>\n",
       "    <tr>\n",
       "      <th>0</th>\n",
       "      <td>Decision Tree</td>\n",
       "      <td>{'clf__max_depth': 10}</td>\n",
       "      <td>0.412675</td>\n",
       "    </tr>\n",
       "    <tr>\n",
       "      <th>1</th>\n",
       "      <td>Random Forest</td>\n",
       "      <td>{'clf__max_depth': 5, 'clf__n_estimators': 500}</td>\n",
       "      <td>0.428837</td>\n",
       "    </tr>\n",
       "    <tr>\n",
       "      <th>2</th>\n",
       "      <td>Gradient Boosting</td>\n",
       "      <td>{'clf__max_depth': 3, 'clf__n_estimators': 100}</td>\n",
       "      <td>0.434171</td>\n",
       "    </tr>\n",
       "    <tr>\n",
       "      <th>3</th>\n",
       "      <td>HistGradientBoosting</td>\n",
       "      <td>{'clf__max_depth': 3}</td>\n",
       "      <td>0.431353</td>\n",
       "    </tr>\n",
       "    <tr>\n",
       "      <th>4</th>\n",
       "      <td>XGBoost</td>\n",
       "      <td>{'clf__max_depth': 3, 'clf__n_estimators': 100}</td>\n",
       "      <td>0.431030</td>\n",
       "    </tr>\n",
       "    <tr>\n",
       "      <th>5</th>\n",
       "      <td>SVM (linear)</td>\n",
       "      <td>{'clf__C': 0.1}</td>\n",
       "      <td>0.424299</td>\n",
       "    </tr>\n",
       "    <tr>\n",
       "      <th>6</th>\n",
       "      <td>Logistic Regression</td>\n",
       "      <td>{'clf__C': 10}</td>\n",
       "      <td>0.434428</td>\n",
       "    </tr>\n",
       "  </tbody>\n",
       "</table>\n",
       "</div>"
      ],
      "text/plain": [
       "                  model                                  best_parameters  \\\n",
       "0         Decision Tree                           {'clf__max_depth': 10}   \n",
       "1         Random Forest  {'clf__max_depth': 5, 'clf__n_estimators': 500}   \n",
       "2     Gradient Boosting  {'clf__max_depth': 3, 'clf__n_estimators': 100}   \n",
       "3  HistGradientBoosting                            {'clf__max_depth': 3}   \n",
       "4               XGBoost  {'clf__max_depth': 3, 'clf__n_estimators': 100}   \n",
       "5          SVM (linear)                                  {'clf__C': 0.1}   \n",
       "6   Logistic Regression                                   {'clf__C': 10}   \n",
       "\n",
       "    best_f1  \n",
       "0  0.412675  \n",
       "1  0.428837  \n",
       "2  0.434171  \n",
       "3  0.431353  \n",
       "4  0.431030  \n",
       "5  0.424299  \n",
       "6  0.434428  "
      ]
     },
     "execution_count": 68,
     "metadata": {},
     "output_type": "execute_result"
    }
   ],
   "source": [
    "# Again with grid search and cross-validation\n",
    "\n",
    "pos = (y_small == 1).sum()\n",
    "neg = (y_small == 0).sum()\n",
    "scale_pos = (neg / pos) if pos else 1.0                \n",
    "sw_balanced = compute_sample_weight(\"balanced\", y_small)\n",
    "\n",
    "models_and_grids = {\n",
    "    \"Decision Tree\": (\n",
    "        DecisionTreeClassifier(random_state=42, class_weight=\"balanced\"),\n",
    "        {\"clf__max_depth\": [3, 5, 10]}\n",
    "    ),\n",
    "    \"Random Forest\": (\n",
    "        RandomForestClassifier(n_jobs=-1, random_state=42, class_weight=\"balanced\"),\n",
    "        {\"clf__n_estimators\": [200, 500], \"clf__max_depth\": [5, 8]}\n",
    "    ),\n",
    "    \"Gradient Boosting\": (\n",
    "        GradientBoostingClassifier(random_state=42),\n",
    "        {\"clf__n_estimators\": [100, 200], \"clf__max_depth\": [3, 5]}\n",
    "    ),\n",
    "    \"HistGradientBoosting\": (\n",
    "        HistGradientBoostingClassifier(random_state=42),\n",
    "        {\"clf__max_depth\": [3, 5]}\n",
    "    ),\n",
    "    \"XGBoost\": (\n",
    "        XGBClassifier(eval_metric=\"aucpr\", random_state=42, n_jobs=-1, scale_pos_weight=scale_pos),\n",
    "        {\"clf__n_estimators\": [100, 200], \"clf__max_depth\": [3, 5]}\n",
    "    ),\n",
    "    \"SVM (linear)\": (\n",
    "        SVC(kernel=\"linear\", probability=False, random_state=42, class_weight=\"balanced\"),\n",
    "        {\"clf__C\": [0.1, 1, 10]}\n",
    "    ),\n",
    "    \"Logistic Regression\": (\n",
    "        LogisticRegression(max_iter=500, solver=\"liblinear\", random_state=42, class_weight=\"balanced\"),\n",
    "        {\"clf__C\": [0.1, 1, 10]}\n",
    "    ),\n",
    "}\n",
    "\n",
    "cv = StratifiedKFold(n_splits=5, shuffle=True, random_state=42)\n",
    "scoring = {\"pr_auc\": \"average_precision\", \"roc_auc\": \"roc_auc\", \"f1\": \"f1\"}\n",
    "\n",
    "results = []\n",
    "for name, (clf, param_grid) in models_and_grids.items():\n",
    "    pipe = Pipeline([(\"scaler\", StandardScaler()), (\"clf\", clf)])\n",
    "    grid = GridSearchCV(pipe, param_grid=param_grid, cv=cv, scoring=scoring, refit='f1', n_jobs=-1)\n",
    "    fit_params = {}\n",
    "    if name in ['Gradient Boosting', 'HistGradientBoosting']:\n",
    "        fit_params = {\"clf__sample_weight\": sw_balanced}\n",
    "\n",
    "    grid.fit(X_small, y_small, **fit_params)\n",
    "    results.append({\n",
    "    \"model\": name,\n",
    "    \"best_parameters\": grid.best_params_,\n",
    "    \"best_f1\": grid.best_score_\n",
    "})\n",
    "\n",
    "\n",
    "results_df = pd.DataFrame(results)\n",
    "results_df"
   ]
  },
  {
   "cell_type": "markdown",
   "metadata": {
    "id": "7onkz0x6eSEX"
   },
   "source": [
    "# References\n",
    "\n",
    "1. https://www.1177.se/Stockholm/sa-fungerar-varden/att-valja-vardmottagning/valja-vardmottagning/om-listning-och-avlistning/\n",
    "2. https://www.informationsverige.se/sv/jag-har-fatt-uppehallstillstand/om-du-behover-vard.html/\n"
   ]
  },
  {
   "cell_type": "markdown",
   "metadata": {},
   "source": []
  }
 ],
 "metadata": {
  "colab": {
   "authorship_tag": "ABX9TyMIAlvdCzo6Ouu/8Wq9e928",
   "provenance": []
  },
  "kernelspec": {
   "display_name": "env",
   "language": "python",
   "name": "python3"
  },
  "language_info": {
   "codemirror_mode": {
    "name": "ipython",
    "version": 3
   },
   "file_extension": ".py",
   "mimetype": "text/x-python",
   "name": "python",
   "nbconvert_exporter": "python",
   "pygments_lexer": "ipython3",
   "version": "3.11.9"
  }
 },
 "nbformat": 4,
 "nbformat_minor": 0
}
