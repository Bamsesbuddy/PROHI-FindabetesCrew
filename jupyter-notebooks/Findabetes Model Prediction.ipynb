{
 "cells": [
  {
   "cell_type": "code",
   "execution_count": 3,
   "id": "a0d1be8f",
   "metadata": {},
   "outputs": [],
   "source": [
    "import pandas as pd\n",
    "from sklearn.model_selection import train_test_split\n",
    "from sklearn.preprocessing import StandardScaler\n",
    "from sklearn.pipeline import Pipeline\n",
    "from sklearn.ensemble import RandomForestClassifier\n",
    "from sklearn.metrics import classification_report, roc_auc_score, confusion_matrix\n",
    "import seaborn as sns\n",
    "import matplotlib.pyplot as plt"
   ]
  },
  {
   "cell_type": "code",
   "execution_count": 4,
   "id": "cc0d9f50",
   "metadata": {},
   "outputs": [],
   "source": [
    "df = pd.read_csv(\"diabetes_012_health_indicators_BRFSS2015.csv\")"
   ]
  },
  {
   "cell_type": "code",
   "execution_count": 5,
   "id": "a736cf45",
   "metadata": {},
   "outputs": [],
   "source": [
    "# Convert target: 1 (pre-diabetes) and 2 (diabetes) → 1\n",
    "df[\"Diabetes_binary\"] = df[\"Diabetes_012\"].apply(lambda x: 1 if x > 0 else 0)"
   ]
  },
  {
   "cell_type": "code",
   "execution_count": 6,
   "id": "8b3af072",
   "metadata": {},
   "outputs": [
    {
     "data": {
      "text/plain": [
       "(253680, 23)"
      ]
     },
     "execution_count": 6,
     "metadata": {},
     "output_type": "execute_result"
    }
   ],
   "source": [
    "df.shape"
   ]
  },
  {
   "cell_type": "code",
   "execution_count": 7,
   "id": "b8530d21",
   "metadata": {},
   "outputs": [
    {
     "data": {
      "text/plain": [
       "Diabetes_012            float64\n",
       "HighBP                  float64\n",
       "HighChol                float64\n",
       "CholCheck               float64\n",
       "BMI                     float64\n",
       "Smoker                  float64\n",
       "Stroke                  float64\n",
       "HeartDiseaseorAttack    float64\n",
       "PhysActivity            float64\n",
       "Fruits                  float64\n",
       "Veggies                 float64\n",
       "HvyAlcoholConsump       float64\n",
       "AnyHealthcare           float64\n",
       "NoDocbcCost             float64\n",
       "GenHlth                 float64\n",
       "MentHlth                float64\n",
       "PhysHlth                float64\n",
       "DiffWalk                float64\n",
       "Sex                     float64\n",
       "Age                     float64\n",
       "Education               float64\n",
       "Income                  float64\n",
       "Diabetes_binary           int64\n",
       "dtype: object"
      ]
     },
     "execution_count": 7,
     "metadata": {},
     "output_type": "execute_result"
    }
   ],
   "source": [
    "df.dtypes"
   ]
  },
  {
   "cell_type": "code",
   "execution_count": 8,
   "id": "7f2498e2",
   "metadata": {},
   "outputs": [
    {
     "name": "stdout",
     "output_type": "stream",
     "text": [
      "        HighBP  HighChol  CholCheck   BMI  Smoker  Stroke  \\\n",
      "0          1.0       1.0        1.0  40.0     1.0     0.0   \n",
      "1          0.0       0.0        0.0  25.0     1.0     0.0   \n",
      "2          1.0       1.0        1.0  28.0     0.0     0.0   \n",
      "3          1.0       0.0        1.0  27.0     0.0     0.0   \n",
      "4          1.0       1.0        1.0  24.0     0.0     0.0   \n",
      "...        ...       ...        ...   ...     ...     ...   \n",
      "253675     1.0       1.0        1.0  45.0     0.0     0.0   \n",
      "253676     1.0       1.0        1.0  18.0     0.0     0.0   \n",
      "253677     0.0       0.0        1.0  28.0     0.0     0.0   \n",
      "253678     1.0       0.0        1.0  23.0     0.0     0.0   \n",
      "253679     1.0       1.0        1.0  25.0     0.0     0.0   \n",
      "\n",
      "        HeartDiseaseorAttack  PhysActivity  Fruits  Veggies  ...  \\\n",
      "0                        0.0           0.0     0.0      1.0  ...   \n",
      "1                        0.0           1.0     0.0      0.0  ...   \n",
      "2                        0.0           0.0     1.0      0.0  ...   \n",
      "3                        0.0           1.0     1.0      1.0  ...   \n",
      "4                        0.0           1.0     1.0      1.0  ...   \n",
      "...                      ...           ...     ...      ...  ...   \n",
      "253675                   0.0           0.0     1.0      1.0  ...   \n",
      "253676                   0.0           0.0     0.0      0.0  ...   \n",
      "253677                   0.0           1.0     1.0      0.0  ...   \n",
      "253678                   0.0           0.0     1.0      1.0  ...   \n",
      "253679                   1.0           1.0     1.0      0.0  ...   \n",
      "\n",
      "        AnyHealthcare  NoDocbcCost  GenHlth  MentHlth  PhysHlth  DiffWalk  \\\n",
      "0                 1.0          0.0      5.0      18.0      15.0       1.0   \n",
      "1                 0.0          1.0      3.0       0.0       0.0       0.0   \n",
      "2                 1.0          1.0      5.0      30.0      30.0       1.0   \n",
      "3                 1.0          0.0      2.0       0.0       0.0       0.0   \n",
      "4                 1.0          0.0      2.0       3.0       0.0       0.0   \n",
      "...               ...          ...      ...       ...       ...       ...   \n",
      "253675            1.0          0.0      3.0       0.0       5.0       0.0   \n",
      "253676            1.0          0.0      4.0       0.0       0.0       1.0   \n",
      "253677            1.0          0.0      1.0       0.0       0.0       0.0   \n",
      "253678            1.0          0.0      3.0       0.0       0.0       0.0   \n",
      "253679            1.0          0.0      2.0       0.0       0.0       0.0   \n",
      "\n",
      "        Sex   Age  Education  Income  \n",
      "0       0.0   9.0        4.0     3.0  \n",
      "1       0.0   7.0        6.0     1.0  \n",
      "2       0.0   9.0        4.0     8.0  \n",
      "3       0.0  11.0        3.0     6.0  \n",
      "4       0.0  11.0        5.0     4.0  \n",
      "...     ...   ...        ...     ...  \n",
      "253675  1.0   5.0        6.0     7.0  \n",
      "253676  0.0  11.0        2.0     4.0  \n",
      "253677  0.0   2.0        5.0     2.0  \n",
      "253678  1.0   7.0        5.0     1.0  \n",
      "253679  0.0   9.0        6.0     2.0  \n",
      "\n",
      "[253680 rows x 21 columns] 0         0\n",
      "1         0\n",
      "2         0\n",
      "3         0\n",
      "4         0\n",
      "         ..\n",
      "253675    0\n",
      "253676    1\n",
      "253677    0\n",
      "253678    0\n",
      "253679    1\n",
      "Name: Diabetes_binary, Length: 253680, dtype: int64\n"
     ]
    }
   ],
   "source": [
    "# Features & target\n",
    "X = df.drop(columns=[\"Diabetes_012\", \"Diabetes_binary\"])\n",
    "y = df[\"Diabetes_binary\"]\n",
    "print(X,y)"
   ]
  },
  {
   "cell_type": "code",
   "execution_count": 9,
   "id": "bd6a82c2",
   "metadata": {},
   "outputs": [
    {
     "data": {
      "text/plain": [
       "Diabetes_012            0\n",
       "HighBP                  0\n",
       "HighChol                0\n",
       "CholCheck               0\n",
       "BMI                     0\n",
       "Smoker                  0\n",
       "Stroke                  0\n",
       "HeartDiseaseorAttack    0\n",
       "PhysActivity            0\n",
       "Fruits                  0\n",
       "Veggies                 0\n",
       "HvyAlcoholConsump       0\n",
       "AnyHealthcare           0\n",
       "NoDocbcCost             0\n",
       "GenHlth                 0\n",
       "MentHlth                0\n",
       "PhysHlth                0\n",
       "DiffWalk                0\n",
       "Sex                     0\n",
       "Age                     0\n",
       "Education               0\n",
       "Income                  0\n",
       "Diabetes_binary         0\n",
       "dtype: int64"
      ]
     },
     "execution_count": 9,
     "metadata": {},
     "output_type": "execute_result"
    }
   ],
   "source": [
    "df.isnull().sum()"
   ]
  },
  {
   "cell_type": "code",
   "execution_count": 10,
   "id": "89689b4f",
   "metadata": {},
   "outputs": [
    {
     "data": {
      "image/png": "[encoded data removed]",
      "text/plain": [
       "<Figure size 640x480 with 1 Axes>"
      ]
     },
     "metadata": {},
     "output_type": "display_data"
    }
   ],
   "source": [
    "# Target variable distribution\n",
    "sns.countplot(x=\"Diabetes_012\", data=df)\n",
    "plt.title(\"Original Target Distribution (1=pre, 2=diabetes)\")\n",
    "plt.show()\n",
    "\n"
   ]
  },
  {
   "cell_type": "markdown",
   "id": "ad26b0ba",
   "metadata": {},
   "source": [
    "Class is imbalanced"
   ]
  },
  {
   "cell_type": "code",
   "execution_count": 11,
   "id": "7a184c2b",
   "metadata": {},
   "outputs": [
    {
     "name": "stdout",
     "output_type": "stream",
     "text": [
      "Classification Report:\n",
      "               precision    recall  f1-score   support\n",
      "\n",
      "           0       0.87      0.96      0.91     42741\n",
      "           1       0.52      0.22      0.30      7995\n",
      "\n",
      "    accuracy                           0.84     50736\n",
      "   macro avg       0.69      0.59      0.61     50736\n",
      "weighted avg       0.81      0.84      0.82     50736\n",
      "\n",
      "ROC AUC: 0.7922259324854993\n",
      "Confusion Matrix:\n",
      " [[41148  1593]\n",
      " [ 6275  1720]]\n"
     ]
    }
   ],
   "source": [
    "# Train-test split\n",
    "X_train, X_test, y_train, y_test = train_test_split(\n",
    "    X, y, test_size=0.2, stratify=y, random_state=42\n",
    ")\n",
    "\n",
    "# Pipeline: scaling + RandomForest\n",
    "pipeline = Pipeline([\n",
    "    (\"scaler\", StandardScaler()),\n",
    "    (\"clf\", RandomForestClassifier(n_estimators=100, random_state=42, n_jobs=-1))\n",
    "])\n",
    "\n",
    "# Train\n",
    "pipeline.fit(X_train, y_train)\n",
    "\n",
    "# Predictions\n",
    "y_pred = pipeline.predict(X_test)\n",
    "y_prob = pipeline.predict_proba(X_test)[:, 1]\n",
    "\n",
    "# Evaluation\n",
    "print(\"Classification Report:\\n\", classification_report(y_test, y_pred))\n",
    "print(\"ROC AUC:\", roc_auc_score(y_test, y_prob))\n",
    "print(\"Confusion Matrix:\\n\", confusion_matrix(y_test, y_pred))"
   ]
  },
  {
   "cell_type": "code",
   "execution_count": 12,
   "id": "0fabc774",
   "metadata": {},
   "outputs": [],
   "source": [
    "from sklearn.linear_model import LogisticRegression\n",
    "from sklearn.ensemble import RandomForestClassifier, GradientBoostingClassifier\n",
    "\n",
    "models = {\n",
    "    \"Logistic Regression\": LogisticRegression(max_iter=1000),\n",
    "    \"Random Forest\": RandomForestClassifier(n_estimators=100, random_state=42),\n",
    "    \"Gradient Boosting\": GradientBoostingClassifier(random_state=42)\n",
    "}\n",
    "\n",
    "results = {}\n",
    "\n",
    "for name, model in models.items():\n",
    "    pipeline = Pipeline([\n",
    "        (\"scaler\", StandardScaler()),\n",
    "        (\"clf\", model)\n",
    "    ])\n",
    "    pipeline.fit(X_train, y_train)\n",
    "    y_pred = pipeline.predict(X_test)\n",
    "    y_prob = pipeline.predict_proba(X_test)[:, 1]\n",
    "    \n",
    "    # Save results\n",
    "    results[name] = {\n",
    "        \"y_pred\": y_pred,\n",
    "        \"y_prob\": y_prob,\n",
    "        \"model\": pipeline\n",
    "    }\n"
   ]
  },
  {
   "cell_type": "code",
   "execution_count": 13,
   "id": "934ac117",
   "metadata": {},
   "outputs": [
    {
     "name": "stdout",
     "output_type": "stream",
     "text": [
      "=== Logistic Regression ===\n",
      "Accuracy: 0.8480960264900662\n",
      "F1 Score: 0.2839357056582737\n",
      "ROC AUC: 0.817190252459295\n",
      "Confusion Matrix:\n",
      " [[41501  1240]\n",
      " [ 6467  1528]]\n",
      "Classification Report:\n",
      "               precision    recall  f1-score   support\n",
      "\n",
      "           0       0.87      0.97      0.92     42741\n",
      "           1       0.55      0.19      0.28      7995\n",
      "\n",
      "    accuracy                           0.85     50736\n",
      "   macro avg       0.71      0.58      0.60     50736\n",
      "weighted avg       0.82      0.85      0.82     50736\n",
      "\n",
      "\n",
      "\n",
      "=== Random Forest ===\n",
      "Accuracy: 0.8449227373068433\n",
      "F1 Score: 0.304209409267775\n",
      "ROC AUC: 0.7922255710724656\n",
      "Confusion Matrix:\n",
      " [[41148  1593]\n",
      " [ 6275  1720]]\n",
      "Classification Report:\n",
      "               precision    recall  f1-score   support\n",
      "\n",
      "           0       0.87      0.96      0.91     42741\n",
      "           1       0.52      0.22      0.30      7995\n",
      "\n",
      "    accuracy                           0.84     50736\n",
      "   macro avg       0.69      0.59      0.61     50736\n",
      "weighted avg       0.81      0.84      0.82     50736\n",
      "\n",
      "\n",
      "\n",
      "=== Gradient Boosting ===\n",
      "Accuracy: 0.851170766319773\n",
      "F1 Score: 0.3112286782814923\n",
      "ROC AUC: 0.8243975292283281\n",
      "Confusion Matrix:\n",
      " [[41479  1262]\n",
      " [ 6289  1706]]\n",
      "Classification Report:\n",
      "               precision    recall  f1-score   support\n",
      "\n",
      "           0       0.87      0.97      0.92     42741\n",
      "           1       0.57      0.21      0.31      7995\n",
      "\n",
      "    accuracy                           0.85     50736\n",
      "   macro avg       0.72      0.59      0.61     50736\n",
      "weighted avg       0.82      0.85      0.82     50736\n",
      "\n",
      "\n",
      "\n"
     ]
    }
   ],
   "source": [
    "from sklearn.metrics import accuracy_score, f1_score, roc_auc_score, confusion_matrix, classification_report\n",
    "\n",
    "for name, res in results.items():\n",
    "    print(f\"=== {name} ===\")\n",
    "    print(\"Accuracy:\", accuracy_score(y_test, res[\"y_pred\"]))\n",
    "    print(\"F1 Score:\", f1_score(y_test, res[\"y_pred\"]))\n",
    "    print(\"ROC AUC:\", roc_auc_score(y_test, res[\"y_prob\"]))\n",
    "    print(\"Confusion Matrix:\\n\", confusion_matrix(y_test, res[\"y_pred\"]))\n",
    "    print(\"Classification Report:\\n\", classification_report(y_test, res[\"y_pred\"]))\n",
    "    print(\"\\n\")"
   ]
  },
  {
   "cell_type": "markdown",
   "id": "3802cf8c",
   "metadata": {},
   "source": [
    "Accuracy is high for both - class imbalnced so not good\n",
    "F1 is low - better if it was high for class imbalanced since it would balance catching true diabetics while avoiding false alarms\n",
    "ROC AUC seems to be good - can separate between both groups well\n",
    "Matrix - seems to be decent but could always be better to reduce the FN"
   ]
  },
  {
   "cell_type": "code",
   "execution_count": 14,
   "id": "553892c2",
   "metadata": {},
   "outputs": [
    {
     "name": "stdout",
     "output_type": "stream",
     "text": [
      "=== Gradient Boosting ===\n",
      "Classification Report:\n",
      "               precision    recall  f1-score   support\n",
      "\n",
      "           0       0.87      0.97      0.92     42741\n",
      "           1       0.57      0.21      0.31      7995\n",
      "\n",
      "    accuracy                           0.85     50736\n",
      "   macro avg       0.72      0.59      0.61     50736\n",
      "weighted avg       0.82      0.85      0.82     50736\n",
      "\n",
      "ROC AUC: 0.8243975292283281\n",
      "Confusion Matrix:\n",
      " [[41479  1262]\n",
      " [ 6289  1706]]\n"
     ]
    }
   ],
   "source": [
    "from sklearn.ensemble import GradientBoostingClassifier\n",
    "from sklearn.metrics import classification_report, roc_auc_score, confusion_matrix\n",
    "\n",
    "gb = GradientBoostingClassifier(random_state=42)\n",
    "\n",
    "# scale numeric features\n",
    "from sklearn.preprocessing import StandardScaler\n",
    "from sklearn.pipeline import Pipeline\n",
    "\n",
    "gb_pipeline = Pipeline([\n",
    "    (\"scaler\", StandardScaler()),\n",
    "    (\"clf\", gb)\n",
    "])\n",
    "\n",
    "gb_pipeline.fit(X_train, y_train)\n",
    "\n",
    "y_pred = gb_pipeline.predict(X_test)\n",
    "y_prob = gb_pipeline.predict_proba(X_test)[:, 1]\n",
    "\n",
    "print(\"=== Gradient Boosting ===\")\n",
    "print(\"Classification Report:\\n\", classification_report(y_test, y_pred))\n",
    "print(\"ROC AUC:\", roc_auc_score(y_test, y_prob))\n",
    "print(\"Confusion Matrix:\\n\", confusion_matrix(y_test, y_pred))\n"
   ]
  },
  {
   "cell_type": "markdown",
   "id": "f2da7ea9",
   "metadata": {},
   "source": [
    "Essentially the same findings for GB"
   ]
  },
  {
   "cell_type": "code",
   "execution_count": 15,
   "id": "31d6245c",
   "metadata": {},
   "outputs": [
    {
     "data": {
      "image/png": "[encoded data removed]",
      "text/plain": [
       "<Figure size 800x600 with 1 Axes>"
      ]
     },
     "metadata": {},
     "output_type": "display_data"
    }
   ],
   "source": [
    "import numpy as np\n",
    "\n",
    "rf_model = results[\"Random Forest\"][\"model\"].named_steps[\"clf\"]\n",
    "importances = rf_model.feature_importances_\n",
    "\n",
    "feat_importances = pd.Series(importances, index=X.columns)\n",
    "feat_importances.nlargest(15).plot(kind=\"barh\", figsize=(8,6))\n",
    "plt.title(\"Top 15 Feature Importances (Random Forest)\")\n",
    "plt.show()"
   ]
  }
 ],
 "metadata": {
  "kernelspec": {
   "display_name": "Python 3",
   "language": "python",
   "name": "python3"
  },
  "language_info": {
   "codemirror_mode": {
    "name": "ipython",
    "version": 3
   },
   "file_extension": ".py",
   "mimetype": "text/x-python",
   "name": "python",
   "nbconvert_exporter": "python",
   "pygments_lexer": "ipython3",
   "version": "3.13.0"
  }
 },
 "nbformat": 4,
 "nbformat_minor": 5
}
